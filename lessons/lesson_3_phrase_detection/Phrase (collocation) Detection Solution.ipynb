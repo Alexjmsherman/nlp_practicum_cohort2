{
 "cells": [
  {
   "cell_type": "markdown",
   "metadata": {},
   "source": [
    "# Phrase (collocation) Detection Solution\n",
    "\n",
    "###### Author: Alex Sherman | alsherman@deloitte.com"
   ]
  },
  {
   "cell_type": "markdown",
   "metadata": {},
   "source": [
    "#### Agenda\n",
    "1. SpaCy POS phrases\n",
    "2. Gensim Phrases and Phraser"
   ]
  },
  {
   "cell_type": "code",
   "execution_count": 23,
   "metadata": {},
   "outputs": [],
   "source": [
    "from collections import defaultdict\n",
    "from configparser import ConfigParser, ExtendedInterpolation\n",
    "\n",
    "from IPython.core.display import display, HTML\n",
    "import pandas as pd\n",
    "import spacy\n",
    "from spacy import displacy\n",
    "from spacy.matcher import Matcher\n",
    "from spacy.matcher import PhraseMatcher\n",
    "from spacy.lang.en.stop_words import STOP_WORDS\n",
    "from sqlalchemy import create_engine\n",
    "\n",
    "pd.set_option('display.max_colwidth', 100)"
   ]
  },
  {
   "cell_type": "code",
   "execution_count": 24,
   "metadata": {},
   "outputs": [],
   "source": [
    "# configuration for data, acronyms, and gensim paths\n",
    "config = ConfigParser(interpolation=ExtendedInterpolation())\n",
    "config.read('../../config.ini')\n",
    "\n",
    "DB_PATH = config['DATABASES']['PROJECT_DB_PATH']\n",
    "MATCHED_TEXT_PATH = config['NLP']['MATCHED_TEXT_PATH']\n",
    "CLEANED_TEXT_PATH = config['NLP']['CLEANED_TEXT_PATH']\n",
    "GENSIM_DICTIONARY_PATH = config['NLP']['GENSIM_DICTIONARY_PATH']\n",
    "GENSIM_CORPUS_PATH = config['NLP']['GENSIM_CORPUS_PATH']"
   ]
  },
  {
   "cell_type": "markdown",
   "metadata": {},
   "source": [
    "#### Load data"
   ]
  },
  {
   "cell_type": "code",
   "execution_count": 25,
   "metadata": {},
   "outputs": [
    {
     "data": {
      "text/html": [
       "<div>\n",
       "<style scoped>\n",
       "    .dataframe tbody tr th:only-of-type {\n",
       "        vertical-align: middle;\n",
       "    }\n",
       "\n",
       "    .dataframe tbody tr th {\n",
       "        vertical-align: top;\n",
       "    }\n",
       "\n",
       "    .dataframe thead th {\n",
       "        text-align: right;\n",
       "    }\n",
       "</style>\n",
       "<table border=\"1\" class=\"dataframe\">\n",
       "  <thead>\n",
       "    <tr style=\"text-align: right;\">\n",
       "      <th></th>\n",
       "      <th>COUNT(*)</th>\n",
       "    </tr>\n",
       "  </thead>\n",
       "  <tbody>\n",
       "    <tr>\n",
       "      <th>0</th>\n",
       "      <td>500000</td>\n",
       "    </tr>\n",
       "  </tbody>\n",
       "</table>\n",
       "</div>"
      ],
      "text/plain": [
       "   COUNT(*)\n",
       "0    500000"
      ]
     },
     "execution_count": 25,
     "metadata": {},
     "output_type": "execute_result"
    }
   ],
   "source": [
    "# count # of documents\n",
    "engine = create_engine(DB_PATH)\n",
    "pd.read_sql(\"SELECT COUNT(*) FROM pubmed \", con=engine)"
   ]
  },
  {
   "cell_type": "code",
   "execution_count": 26,
   "metadata": {},
   "outputs": [
    {
     "data": {
      "text/html": [
       "<div>\n",
       "<style scoped>\n",
       "    .dataframe tbody tr th:only-of-type {\n",
       "        vertical-align: middle;\n",
       "    }\n",
       "\n",
       "    .dataframe tbody tr th {\n",
       "        vertical-align: top;\n",
       "    }\n",
       "\n",
       "    .dataframe thead th {\n",
       "        text-align: right;\n",
       "    }\n",
       "</style>\n",
       "<table border=\"1\" class=\"dataframe\">\n",
       "  <thead>\n",
       "    <tr style=\"text-align: right;\">\n",
       "      <th></th>\n",
       "      <th>index</th>\n",
       "      <th>text</th>\n",
       "    </tr>\n",
       "  </thead>\n",
       "  <tbody>\n",
       "    <tr>\n",
       "      <th>0</th>\n",
       "      <td>0</td>\n",
       "      <td>acid base diagrams</td>\n",
       "    </tr>\n",
       "    <tr>\n",
       "      <th>1</th>\n",
       "      <td>1</td>\n",
       "      <td>immunising against receptors for antigen</td>\n",
       "    </tr>\n",
       "    <tr>\n",
       "      <th>2</th>\n",
       "      <td>2</td>\n",
       "      <td>immune complexes in rheumatic disease</td>\n",
       "    </tr>\n",
       "    <tr>\n",
       "      <th>3</th>\n",
       "      <td>3</td>\n",
       "      <td>loss of hla antigens associated with hormonal state</td>\n",
       "    </tr>\n",
       "    <tr>\n",
       "      <th>4</th>\n",
       "      <td>4</td>\n",
       "      <td>hypocalcaemia after thyroidectomy</td>\n",
       "    </tr>\n",
       "  </tbody>\n",
       "</table>\n",
       "</div>"
      ],
      "text/plain": [
       "   index                                                 text\n",
       "0      0                                   acid base diagrams\n",
       "1      1             immunising against receptors for antigen\n",
       "2      2                immune complexes in rheumatic disease\n",
       "3      3  loss of hla antigens associated with hormonal state\n",
       "4      4                    hypocalcaemia after thyroidectomy"
      ]
     },
     "execution_count": 26,
     "metadata": {},
     "output_type": "execute_result"
    }
   ],
   "source": [
    "df = pd.read_sql(\"SELECT * FROM pubmed LIMIT 500\", con=engine)\n",
    "\n",
    "# filter to relevant sections\n",
    "df.head()"
   ]
  },
  {
   "cell_type": "code",
   "execution_count": 27,
   "metadata": {},
   "outputs": [
    {
     "data": {
      "text/plain": [
       "500"
      ]
     },
     "execution_count": 27,
     "metadata": {},
     "output_type": "execute_result"
    }
   ],
   "source": [
    "# store section matches in list\n",
    "text = [text for text in df['text']]\n",
    "\n",
    "# review first sentence of a section match\n",
    "len(text)"
   ]
  },
  {
   "cell_type": "markdown",
   "metadata": {},
   "source": [
    "### SpaCy - Preprocessing"
   ]
  },
  {
   "cell_type": "code",
   "execution_count": 28,
   "metadata": {},
   "outputs": [
    {
     "name": "stdout",
     "output_type": "stream",
     "text": [
      "Wall time: 31.1 s\n"
     ]
    }
   ],
   "source": [
    "%%time\n",
    "\n",
    "# load spacy nlp model\n",
    "# use 'en' if you don't have the lg model\n",
    "nlp = spacy.load('en_core_web_lg')"
   ]
  },
  {
   "cell_type": "markdown",
   "metadata": {},
   "source": [
    "###### collect sentences using SpaCy matcher"
   ]
  },
  {
   "cell_type": "code",
   "execution_count": 29,
   "metadata": {},
   "outputs": [],
   "source": [
    "def collect_phrase_model_sents(matcher, doc, i, matches):\n",
    "    # identify matching spans (phrases)\n",
    "    match_id, start, end = matches[i]\n",
    "    \n",
    "    # get sentence with matched term\n",
    "    sent = doc[start:end].sent.text\n",
    "    \n",
    "    # collect matching (cleaned) sents\n",
    "    matched_sents.append(sent)"
   ]
  },
  {
   "cell_type": "markdown",
   "metadata": {},
   "source": [
    "##### match sentences\n",
    "\n",
    "https://explosion.ai/demos/matcher"
   ]
  },
  {
   "cell_type": "code",
   "execution_count": 30,
   "metadata": {},
   "outputs": [
    {
     "name": "stdout",
     "output_type": "stream",
     "text": [
      "Wall time: 14.4 s\n"
     ]
    }
   ],
   "source": [
    "%%time\n",
    "\n",
    "# remove false statement below to run code\n",
    "if 1 == 1:\n",
    "    # match sentences with the word disease or disorder\n",
    "    matched_sents = []\n",
    "    pattern = [[{'LOWER': 'disease'}], [{'LOWER': 'disorder'}]]\n",
    "\n",
    "    matcher = Matcher(nlp.vocab)\n",
    "\n",
    "    # use *patterns to add more than one pattern at once\n",
    "    matcher.add('disease_disorder', collect_phrase_model_sents, *pattern)\n",
    "\n",
    "    for doc in nlp.pipe(text, disable=['tagger','ner']):    \n",
    "        matcher(doc)"
   ]
  },
  {
   "cell_type": "code",
   "execution_count": 31,
   "metadata": {},
   "outputs": [
    {
     "name": "stdout",
     "output_type": "stream",
     "text": [
      "Number of matches: 12 \n",
      "\n",
      "Example Match:\n",
      "immune complexes in rheumatic disease\n"
     ]
    }
   ],
   "source": [
    "print('Number of matches: {} \\n'.format(len(matched_sents)))\n",
    "\n",
    "print('Example Match:')\n",
    "print(matched_sents[0])"
   ]
  },
  {
   "cell_type": "markdown",
   "metadata": {},
   "source": [
    "##### Export matched text to avoid repeating processing"
   ]
  },
  {
   "cell_type": "code",
   "execution_count": 32,
   "metadata": {},
   "outputs": [
    {
     "data": {
      "text/plain": [
       "'C:\\\\Users\\\\alsherman\\\\Desktop\\\\NLP\\\\nlp_practicum_cohort2\\\\raw_data/cleaned_text/matched_text.txt'"
      ]
     },
     "execution_count": 32,
     "metadata": {},
     "output_type": "execute_result"
    }
   ],
   "source": [
    "# view path to matched text\n",
    "MATCHED_TEXT_PATH"
   ]
  },
  {
   "cell_type": "code",
   "execution_count": 33,
   "metadata": {},
   "outputs": [],
   "source": [
    "# uncomment below to write the matched text to a .txt file for later use \n",
    "\n",
    "#with open(MATCHED_TEXT_PATH, 'w') as f:\n",
    "#    for line in matched_sents:\n",
    "#        line += '\\n'\n",
    "#        line = line.encode('ascii', errors='ignore').decode('ascii') \n",
    "#        f.write(line)"
   ]
  },
  {
   "cell_type": "code",
   "execution_count": 34,
   "metadata": {},
   "outputs": [],
   "source": [
    "# read matched text\n",
    "with open(MATCHED_TEXT_PATH, 'r') as f:\n",
    "    matched_sents_full = [line.strip() for line in f.readlines()]"
   ]
  },
  {
   "cell_type": "code",
   "execution_count": 35,
   "metadata": {},
   "outputs": [
    {
     "data": {
      "text/html": [
       "<div>\n",
       "<style scoped>\n",
       "    .dataframe tbody tr th:only-of-type {\n",
       "        vertical-align: middle;\n",
       "    }\n",
       "\n",
       "    .dataframe tbody tr th {\n",
       "        vertical-align: top;\n",
       "    }\n",
       "\n",
       "    .dataframe thead th {\n",
       "        text-align: right;\n",
       "    }\n",
       "</style>\n",
       "<table border=\"1\" class=\"dataframe\">\n",
       "  <thead>\n",
       "    <tr style=\"text-align: right;\">\n",
       "      <th></th>\n",
       "      <th>sentences</th>\n",
       "    </tr>\n",
       "  </thead>\n",
       "  <tbody>\n",
       "    <tr>\n",
       "      <th>0</th>\n",
       "      <td>immune complexes in rheumatic disease</td>\n",
       "    </tr>\n",
       "    <tr>\n",
       "      <th>1</th>\n",
       "      <td>gluten and lymphocytes in coeliac disease</td>\n",
       "    </tr>\n",
       "    <tr>\n",
       "      <th>2</th>\n",
       "      <td>this activity correlated best with the severity and duration of the disease rather than with gam...</td>\n",
       "    </tr>\n",
       "    <tr>\n",
       "      <th>3</th>\n",
       "      <td>evidence exists that they control some of the peripheral manifestations of the disease including...</td>\n",
       "    </tr>\n",
       "    <tr>\n",
       "      <th>4</th>\n",
       "      <td>the finding of additional substitute cf antigens for the hrvl agent may have implications in the...</td>\n",
       "    </tr>\n",
       "  </tbody>\n",
       "</table>\n",
       "</div>"
      ],
      "text/plain": [
       "                                                                                             sentences\n",
       "0                                                                immune complexes in rheumatic disease\n",
       "1                                                            gluten and lymphocytes in coeliac disease\n",
       "2  this activity correlated best with the severity and duration of the disease rather than with gam...\n",
       "3  evidence exists that they control some of the peripheral manifestations of the disease including...\n",
       "4  the finding of additional substitute cf antigens for the hrvl agent may have implications in the..."
      ]
     },
     "execution_count": 35,
     "metadata": {},
     "output_type": "execute_result"
    }
   ],
   "source": [
    "# store all matched sentences in a dataframe\n",
    "matches_df = pd.DataFrame(matched_sents_full, columns=['sentences'])\n",
    "\n",
    "# remove duplicates\n",
    "matches_df = matches_df.drop_duplicates()\n",
    "\n",
    "# recreate matched_sents (since it takes so long to create on its own)\n",
    "matched_sents = [sent[0].split() for sent in matches_df.values]\n",
    "\n",
    "# view matches\n",
    "matches_df.head()"
   ]
  },
  {
   "cell_type": "markdown",
   "metadata": {},
   "source": [
    "### Use SpaCy part of speech (POS) to create phrases"
   ]
  },
  {
   "cell_type": "code",
   "execution_count": 36,
   "metadata": {
    "scrolled": true
   },
   "outputs": [
    {
     "data": {
      "text/plain": [
       "'this activity correlated best with the severity and duration of the disease rather than with gamma globulin or total protein concentrations'"
      ]
     },
     "execution_count": 36,
     "metadata": {},
     "output_type": "execute_result"
    }
   ],
   "source": [
    "# combine the matched sentence tokens and parse it with SpaCy\n",
    "text = ' '.join(matched_sents[2])\n",
    "text"
   ]
  },
  {
   "cell_type": "markdown",
   "metadata": {},
   "source": [
    "##### Determine which NLP components can be disabled"
   ]
  },
  {
   "cell_type": "code",
   "execution_count": 37,
   "metadata": {},
   "outputs": [],
   "source": [
    "def view_pos(doc, n_tokens=5):\n",
    "    \"\"\" print SpaCy POS information about each token in a provided document \"\"\"\n",
    "    print('{:15} | {:10} | {:10} | {:30}'.format('TOKEN','POS','DEP_','LEFTS'))\n",
    "    for token in doc[0:n_tokens]:\n",
    "        print('{:15} | {:10} | {:10} | {:30}'.format(\n",
    "            token.text, token.head.pos_,token.dep_, str([t.text for t in token.lefts])))"
   ]
  },
  {
   "cell_type": "code",
   "execution_count": 38,
   "metadata": {},
   "outputs": [
    {
     "name": "stdout",
     "output_type": "stream",
     "text": [
      "TOKEN           | POS        | DEP_       | LEFTS                         \n",
      "this            | NOUN       | det        | []                            \n",
      "activity        | VERB       | nsubj      | ['this']                      \n",
      "correlated      | VERB       | ROOT       | ['activity']                  \n",
      "best            | VERB       | advmod     | []                            \n",
      "with            | VERB       | prep       | []                            \n"
     ]
    }
   ],
   "source": [
    "# observe which part of speech (pos) attributes are disabled by named entity recognition (ner)\n",
    "pos_doc = nlp(text, disable=['ner'])\n",
    "view_pos(pos_doc)"
   ]
  },
  {
   "cell_type": "code",
   "execution_count": 39,
   "metadata": {},
   "outputs": [
    {
     "name": "stdout",
     "output_type": "stream",
     "text": [
      "TOKEN           | POS        | DEP_       | LEFTS                         \n",
      "this            | DET        |            | []                            \n",
      "activity        | NOUN       |            | []                            \n",
      "correlated      | VERB       |            | []                            \n",
      "best            | ADV        |            | []                            \n",
      "with            | ADP        |            | []                            \n"
     ]
    }
   ],
   "source": [
    "# observe which part of speech (pos) attributes are disabled by parser\n",
    "pos_doc = nlp(text, disable=['ner','parser'])\n",
    "view_pos(pos_doc)"
   ]
  },
  {
   "cell_type": "code",
   "execution_count": 40,
   "metadata": {},
   "outputs": [
    {
     "name": "stdout",
     "output_type": "stream",
     "text": [
      "TOKEN           | POS        | DEP_       | LEFTS                         \n",
      "this            |            | det        | []                            \n",
      "activity        |            | nsubj      | ['this']                      \n",
      "correlated      |            | ROOT       | ['activity']                  \n",
      "best            |            | advmod     | []                            \n",
      "with            |            | prep       | []                            \n"
     ]
    }
   ],
   "source": [
    "# observe which part of speech (pos) attributes are disabled by tagger\n",
    "pos_doc = nlp(text, disable=['ner','tagger'])\n",
    "view_pos(pos_doc, n_tokens=5)"
   ]
  },
  {
   "cell_type": "code",
   "execution_count": 41,
   "metadata": {},
   "outputs": [
    {
     "data": {
      "text/plain": [
       "'direct object'"
      ]
     },
     "execution_count": 41,
     "metadata": {},
     "output_type": "execute_result"
    }
   ],
   "source": [
    "# use explain to define any token.dep_ attributes\n",
    "spacy.explain('dobj')"
   ]
  },
  {
   "cell_type": "code",
   "execution_count": 42,
   "metadata": {},
   "outputs": [
    {
     "data": {
      "text/html": [
       "<iframe src=https://spacy.io/api/annotation#dependency-parsing width=1000 height=400></iframe>"
      ],
      "text/plain": [
       "<IPython.core.display.HTML object>"
      ]
     },
     "execution_count": 42,
     "metadata": {},
     "output_type": "execute_result"
    }
   ],
   "source": [
    "dependency_parsing_labels_url = 'https://spacy.io/api/annotation#dependency-parsing'\n",
    "iframe = '<iframe src={} width=1000 height=400></iframe>'.format(dependency_parsing_labels_url)\n",
    "HTML(iframe)"
   ]
  },
  {
   "cell_type": "markdown",
   "metadata": {},
   "source": [
    "##### Extract phrases by identifying tokens describing an object"
   ]
  },
  {
   "cell_type": "code",
   "execution_count": 43,
   "metadata": {},
   "outputs": [],
   "source": [
    "# add stop words to SpaCy\n",
    "# this enables the .is_stop attribute with common stop words\n",
    "from spacy.lang.en.stop_words import STOP_WORDS\n",
    "\n",
    "for word in STOP_WORDS:\n",
    "    lex = nlp.vocab[word]\n",
    "    lex.is_stop = True"
   ]
  },
  {
   "cell_type": "code",
   "execution_count": 44,
   "metadata": {},
   "outputs": [
    {
     "data": {
      "text/html": [
       "<svg xmlns=\"http://www.w3.org/2000/svg\" xmlns:xlink=\"http://www.w3.org/1999/xlink\" id=\"0\" class=\"displacy\" width=\"3725\" height=\"574.5\" style=\"max-width: none; height: 574.5px; color: #000000; background: #ffffff; font-family: Arial\">\n",
       "<text class=\"displacy-token\" fill=\"currentColor\" text-anchor=\"middle\" y=\"484.5\">\n",
       "    <tspan class=\"displacy-word\" fill=\"currentColor\" x=\"50\">this</tspan>\n",
       "    <tspan class=\"displacy-tag\" dy=\"2em\" fill=\"currentColor\" x=\"50\">DET</tspan>\n",
       "</text>\n",
       "\n",
       "<text class=\"displacy-token\" fill=\"currentColor\" text-anchor=\"middle\" y=\"484.5\">\n",
       "    <tspan class=\"displacy-word\" fill=\"currentColor\" x=\"225\">activity</tspan>\n",
       "    <tspan class=\"displacy-tag\" dy=\"2em\" fill=\"currentColor\" x=\"225\">NOUN</tspan>\n",
       "</text>\n",
       "\n",
       "<text class=\"displacy-token\" fill=\"currentColor\" text-anchor=\"middle\" y=\"484.5\">\n",
       "    <tspan class=\"displacy-word\" fill=\"currentColor\" x=\"400\">correlated</tspan>\n",
       "    <tspan class=\"displacy-tag\" dy=\"2em\" fill=\"currentColor\" x=\"400\">VERB</tspan>\n",
       "</text>\n",
       "\n",
       "<text class=\"displacy-token\" fill=\"currentColor\" text-anchor=\"middle\" y=\"484.5\">\n",
       "    <tspan class=\"displacy-word\" fill=\"currentColor\" x=\"575\">best</tspan>\n",
       "    <tspan class=\"displacy-tag\" dy=\"2em\" fill=\"currentColor\" x=\"575\">ADV</tspan>\n",
       "</text>\n",
       "\n",
       "<text class=\"displacy-token\" fill=\"currentColor\" text-anchor=\"middle\" y=\"484.5\">\n",
       "    <tspan class=\"displacy-word\" fill=\"currentColor\" x=\"750\">with</tspan>\n",
       "    <tspan class=\"displacy-tag\" dy=\"2em\" fill=\"currentColor\" x=\"750\">ADP</tspan>\n",
       "</text>\n",
       "\n",
       "<text class=\"displacy-token\" fill=\"currentColor\" text-anchor=\"middle\" y=\"484.5\">\n",
       "    <tspan class=\"displacy-word\" fill=\"currentColor\" x=\"925\">the</tspan>\n",
       "    <tspan class=\"displacy-tag\" dy=\"2em\" fill=\"currentColor\" x=\"925\">DET</tspan>\n",
       "</text>\n",
       "\n",
       "<text class=\"displacy-token\" fill=\"currentColor\" text-anchor=\"middle\" y=\"484.5\">\n",
       "    <tspan class=\"displacy-word\" fill=\"currentColor\" x=\"1100\">severity</tspan>\n",
       "    <tspan class=\"displacy-tag\" dy=\"2em\" fill=\"currentColor\" x=\"1100\">NOUN</tspan>\n",
       "</text>\n",
       "\n",
       "<text class=\"displacy-token\" fill=\"currentColor\" text-anchor=\"middle\" y=\"484.5\">\n",
       "    <tspan class=\"displacy-word\" fill=\"currentColor\" x=\"1275\">and</tspan>\n",
       "    <tspan class=\"displacy-tag\" dy=\"2em\" fill=\"currentColor\" x=\"1275\">CCONJ</tspan>\n",
       "</text>\n",
       "\n",
       "<text class=\"displacy-token\" fill=\"currentColor\" text-anchor=\"middle\" y=\"484.5\">\n",
       "    <tspan class=\"displacy-word\" fill=\"currentColor\" x=\"1450\">duration</tspan>\n",
       "    <tspan class=\"displacy-tag\" dy=\"2em\" fill=\"currentColor\" x=\"1450\">NOUN</tspan>\n",
       "</text>\n",
       "\n",
       "<text class=\"displacy-token\" fill=\"currentColor\" text-anchor=\"middle\" y=\"484.5\">\n",
       "    <tspan class=\"displacy-word\" fill=\"currentColor\" x=\"1625\">of</tspan>\n",
       "    <tspan class=\"displacy-tag\" dy=\"2em\" fill=\"currentColor\" x=\"1625\">ADP</tspan>\n",
       "</text>\n",
       "\n",
       "<text class=\"displacy-token\" fill=\"currentColor\" text-anchor=\"middle\" y=\"484.5\">\n",
       "    <tspan class=\"displacy-word\" fill=\"currentColor\" x=\"1800\">the</tspan>\n",
       "    <tspan class=\"displacy-tag\" dy=\"2em\" fill=\"currentColor\" x=\"1800\">DET</tspan>\n",
       "</text>\n",
       "\n",
       "<text class=\"displacy-token\" fill=\"currentColor\" text-anchor=\"middle\" y=\"484.5\">\n",
       "    <tspan class=\"displacy-word\" fill=\"currentColor\" x=\"1975\">disease</tspan>\n",
       "    <tspan class=\"displacy-tag\" dy=\"2em\" fill=\"currentColor\" x=\"1975\">NOUN</tspan>\n",
       "</text>\n",
       "\n",
       "<text class=\"displacy-token\" fill=\"currentColor\" text-anchor=\"middle\" y=\"484.5\">\n",
       "    <tspan class=\"displacy-word\" fill=\"currentColor\" x=\"2150\">rather</tspan>\n",
       "    <tspan class=\"displacy-tag\" dy=\"2em\" fill=\"currentColor\" x=\"2150\">ADV</tspan>\n",
       "</text>\n",
       "\n",
       "<text class=\"displacy-token\" fill=\"currentColor\" text-anchor=\"middle\" y=\"484.5\">\n",
       "    <tspan class=\"displacy-word\" fill=\"currentColor\" x=\"2325\">than</tspan>\n",
       "    <tspan class=\"displacy-tag\" dy=\"2em\" fill=\"currentColor\" x=\"2325\">ADP</tspan>\n",
       "</text>\n",
       "\n",
       "<text class=\"displacy-token\" fill=\"currentColor\" text-anchor=\"middle\" y=\"484.5\">\n",
       "    <tspan class=\"displacy-word\" fill=\"currentColor\" x=\"2500\">with</tspan>\n",
       "    <tspan class=\"displacy-tag\" dy=\"2em\" fill=\"currentColor\" x=\"2500\">ADP</tspan>\n",
       "</text>\n",
       "\n",
       "<text class=\"displacy-token\" fill=\"currentColor\" text-anchor=\"middle\" y=\"484.5\">\n",
       "    <tspan class=\"displacy-word\" fill=\"currentColor\" x=\"2675\">gamma</tspan>\n",
       "    <tspan class=\"displacy-tag\" dy=\"2em\" fill=\"currentColor\" x=\"2675\">NOUN</tspan>\n",
       "</text>\n",
       "\n",
       "<text class=\"displacy-token\" fill=\"currentColor\" text-anchor=\"middle\" y=\"484.5\">\n",
       "    <tspan class=\"displacy-word\" fill=\"currentColor\" x=\"2850\">globulin</tspan>\n",
       "    <tspan class=\"displacy-tag\" dy=\"2em\" fill=\"currentColor\" x=\"2850\">NOUN</tspan>\n",
       "</text>\n",
       "\n",
       "<text class=\"displacy-token\" fill=\"currentColor\" text-anchor=\"middle\" y=\"484.5\">\n",
       "    <tspan class=\"displacy-word\" fill=\"currentColor\" x=\"3025\">or</tspan>\n",
       "    <tspan class=\"displacy-tag\" dy=\"2em\" fill=\"currentColor\" x=\"3025\">CCONJ</tspan>\n",
       "</text>\n",
       "\n",
       "<text class=\"displacy-token\" fill=\"currentColor\" text-anchor=\"middle\" y=\"484.5\">\n",
       "    <tspan class=\"displacy-word\" fill=\"currentColor\" x=\"3200\">total</tspan>\n",
       "    <tspan class=\"displacy-tag\" dy=\"2em\" fill=\"currentColor\" x=\"3200\">ADJ</tspan>\n",
       "</text>\n",
       "\n",
       "<text class=\"displacy-token\" fill=\"currentColor\" text-anchor=\"middle\" y=\"484.5\">\n",
       "    <tspan class=\"displacy-word\" fill=\"currentColor\" x=\"3375\">protein</tspan>\n",
       "    <tspan class=\"displacy-tag\" dy=\"2em\" fill=\"currentColor\" x=\"3375\">NOUN</tspan>\n",
       "</text>\n",
       "\n",
       "<text class=\"displacy-token\" fill=\"currentColor\" text-anchor=\"middle\" y=\"484.5\">\n",
       "    <tspan class=\"displacy-word\" fill=\"currentColor\" x=\"3550\">concentrations</tspan>\n",
       "    <tspan class=\"displacy-tag\" dy=\"2em\" fill=\"currentColor\" x=\"3550\">NOUN</tspan>\n",
       "</text>\n",
       "\n",
       "<g class=\"displacy-arrow\">\n",
       "    <path class=\"displacy-arc\" id=\"arrow-0-0\" stroke-width=\"2px\" d=\"M70,439.5 C70,352.0 205.0,352.0 205.0,439.5\" fill=\"none\" stroke=\"currentColor\"/>\n",
       "    <text dy=\"1.25em\" style=\"font-size: 0.8em; letter-spacing: 1px\">\n",
       "        <textPath xlink:href=\"#arrow-0-0\" class=\"displacy-label\" startOffset=\"50%\" fill=\"currentColor\" text-anchor=\"middle\">det</textPath>\n",
       "    </text>\n",
       "    <path class=\"displacy-arrowhead\" d=\"M70,441.5 L62,429.5 78,429.5\" fill=\"currentColor\"/>\n",
       "</g>\n",
       "\n",
       "<g class=\"displacy-arrow\">\n",
       "    <path class=\"displacy-arc\" id=\"arrow-0-1\" stroke-width=\"2px\" d=\"M245,439.5 C245,352.0 380.0,352.0 380.0,439.5\" fill=\"none\" stroke=\"currentColor\"/>\n",
       "    <text dy=\"1.25em\" style=\"font-size: 0.8em; letter-spacing: 1px\">\n",
       "        <textPath xlink:href=\"#arrow-0-1\" class=\"displacy-label\" startOffset=\"50%\" fill=\"currentColor\" text-anchor=\"middle\">nsubj</textPath>\n",
       "    </text>\n",
       "    <path class=\"displacy-arrowhead\" d=\"M245,441.5 L237,429.5 253,429.5\" fill=\"currentColor\"/>\n",
       "</g>\n",
       "\n",
       "<g class=\"displacy-arrow\">\n",
       "    <path class=\"displacy-arc\" id=\"arrow-0-2\" stroke-width=\"2px\" d=\"M420,439.5 C420,352.0 555.0,352.0 555.0,439.5\" fill=\"none\" stroke=\"currentColor\"/>\n",
       "    <text dy=\"1.25em\" style=\"font-size: 0.8em; letter-spacing: 1px\">\n",
       "        <textPath xlink:href=\"#arrow-0-2\" class=\"displacy-label\" startOffset=\"50%\" fill=\"currentColor\" text-anchor=\"middle\">advmod</textPath>\n",
       "    </text>\n",
       "    <path class=\"displacy-arrowhead\" d=\"M555.0,441.5 L563.0,429.5 547.0,429.5\" fill=\"currentColor\"/>\n",
       "</g>\n",
       "\n",
       "<g class=\"displacy-arrow\">\n",
       "    <path class=\"displacy-arc\" id=\"arrow-0-3\" stroke-width=\"2px\" d=\"M420,439.5 C420,264.5 735.0,264.5 735.0,439.5\" fill=\"none\" stroke=\"currentColor\"/>\n",
       "    <text dy=\"1.25em\" style=\"font-size: 0.8em; letter-spacing: 1px\">\n",
       "        <textPath xlink:href=\"#arrow-0-3\" class=\"displacy-label\" startOffset=\"50%\" fill=\"currentColor\" text-anchor=\"middle\">prep</textPath>\n",
       "    </text>\n",
       "    <path class=\"displacy-arrowhead\" d=\"M735.0,441.5 L743.0,429.5 727.0,429.5\" fill=\"currentColor\"/>\n",
       "</g>\n",
       "\n",
       "<g class=\"displacy-arrow\">\n",
       "    <path class=\"displacy-arc\" id=\"arrow-0-4\" stroke-width=\"2px\" d=\"M945,439.5 C945,352.0 1080.0,352.0 1080.0,439.5\" fill=\"none\" stroke=\"currentColor\"/>\n",
       "    <text dy=\"1.25em\" style=\"font-size: 0.8em; letter-spacing: 1px\">\n",
       "        <textPath xlink:href=\"#arrow-0-4\" class=\"displacy-label\" startOffset=\"50%\" fill=\"currentColor\" text-anchor=\"middle\">det</textPath>\n",
       "    </text>\n",
       "    <path class=\"displacy-arrowhead\" d=\"M945,441.5 L937,429.5 953,429.5\" fill=\"currentColor\"/>\n",
       "</g>\n",
       "\n",
       "<g class=\"displacy-arrow\">\n",
       "    <path class=\"displacy-arc\" id=\"arrow-0-5\" stroke-width=\"2px\" d=\"M770,439.5 C770,264.5 1085.0,264.5 1085.0,439.5\" fill=\"none\" stroke=\"currentColor\"/>\n",
       "    <text dy=\"1.25em\" style=\"font-size: 0.8em; letter-spacing: 1px\">\n",
       "        <textPath xlink:href=\"#arrow-0-5\" class=\"displacy-label\" startOffset=\"50%\" fill=\"currentColor\" text-anchor=\"middle\">pobj</textPath>\n",
       "    </text>\n",
       "    <path class=\"displacy-arrowhead\" d=\"M1085.0,441.5 L1093.0,429.5 1077.0,429.5\" fill=\"currentColor\"/>\n",
       "</g>\n",
       "\n",
       "<g class=\"displacy-arrow\">\n",
       "    <path class=\"displacy-arc\" id=\"arrow-0-6\" stroke-width=\"2px\" d=\"M1120,439.5 C1120,352.0 1255.0,352.0 1255.0,439.5\" fill=\"none\" stroke=\"currentColor\"/>\n",
       "    <text dy=\"1.25em\" style=\"font-size: 0.8em; letter-spacing: 1px\">\n",
       "        <textPath xlink:href=\"#arrow-0-6\" class=\"displacy-label\" startOffset=\"50%\" fill=\"currentColor\" text-anchor=\"middle\">cc</textPath>\n",
       "    </text>\n",
       "    <path class=\"displacy-arrowhead\" d=\"M1255.0,441.5 L1263.0,429.5 1247.0,429.5\" fill=\"currentColor\"/>\n",
       "</g>\n",
       "\n",
       "<g class=\"displacy-arrow\">\n",
       "    <path class=\"displacy-arc\" id=\"arrow-0-7\" stroke-width=\"2px\" d=\"M1120,439.5 C1120,264.5 1435.0,264.5 1435.0,439.5\" fill=\"none\" stroke=\"currentColor\"/>\n",
       "    <text dy=\"1.25em\" style=\"font-size: 0.8em; letter-spacing: 1px\">\n",
       "        <textPath xlink:href=\"#arrow-0-7\" class=\"displacy-label\" startOffset=\"50%\" fill=\"currentColor\" text-anchor=\"middle\">conj</textPath>\n",
       "    </text>\n",
       "    <path class=\"displacy-arrowhead\" d=\"M1435.0,441.5 L1443.0,429.5 1427.0,429.5\" fill=\"currentColor\"/>\n",
       "</g>\n",
       "\n",
       "<g class=\"displacy-arrow\">\n",
       "    <path class=\"displacy-arc\" id=\"arrow-0-8\" stroke-width=\"2px\" d=\"M1120,439.5 C1120,177.0 1615.0,177.0 1615.0,439.5\" fill=\"none\" stroke=\"currentColor\"/>\n",
       "    <text dy=\"1.25em\" style=\"font-size: 0.8em; letter-spacing: 1px\">\n",
       "        <textPath xlink:href=\"#arrow-0-8\" class=\"displacy-label\" startOffset=\"50%\" fill=\"currentColor\" text-anchor=\"middle\">prep</textPath>\n",
       "    </text>\n",
       "    <path class=\"displacy-arrowhead\" d=\"M1615.0,441.5 L1623.0,429.5 1607.0,429.5\" fill=\"currentColor\"/>\n",
       "</g>\n",
       "\n",
       "<g class=\"displacy-arrow\">\n",
       "    <path class=\"displacy-arc\" id=\"arrow-0-9\" stroke-width=\"2px\" d=\"M1820,439.5 C1820,352.0 1955.0,352.0 1955.0,439.5\" fill=\"none\" stroke=\"currentColor\"/>\n",
       "    <text dy=\"1.25em\" style=\"font-size: 0.8em; letter-spacing: 1px\">\n",
       "        <textPath xlink:href=\"#arrow-0-9\" class=\"displacy-label\" startOffset=\"50%\" fill=\"currentColor\" text-anchor=\"middle\">det</textPath>\n",
       "    </text>\n",
       "    <path class=\"displacy-arrowhead\" d=\"M1820,441.5 L1812,429.5 1828,429.5\" fill=\"currentColor\"/>\n",
       "</g>\n",
       "\n",
       "<g class=\"displacy-arrow\">\n",
       "    <path class=\"displacy-arc\" id=\"arrow-0-10\" stroke-width=\"2px\" d=\"M1645,439.5 C1645,264.5 1960.0,264.5 1960.0,439.5\" fill=\"none\" stroke=\"currentColor\"/>\n",
       "    <text dy=\"1.25em\" style=\"font-size: 0.8em; letter-spacing: 1px\">\n",
       "        <textPath xlink:href=\"#arrow-0-10\" class=\"displacy-label\" startOffset=\"50%\" fill=\"currentColor\" text-anchor=\"middle\">pobj</textPath>\n",
       "    </text>\n",
       "    <path class=\"displacy-arrowhead\" d=\"M1960.0,441.5 L1968.0,429.5 1952.0,429.5\" fill=\"currentColor\"/>\n",
       "</g>\n",
       "\n",
       "<g class=\"displacy-arrow\">\n",
       "    <path class=\"displacy-arc\" id=\"arrow-0-11\" stroke-width=\"2px\" d=\"M2170,439.5 C2170,352.0 2305.0,352.0 2305.0,439.5\" fill=\"none\" stroke=\"currentColor\"/>\n",
       "    <text dy=\"1.25em\" style=\"font-size: 0.8em; letter-spacing: 1px\">\n",
       "        <textPath xlink:href=\"#arrow-0-11\" class=\"displacy-label\" startOffset=\"50%\" fill=\"currentColor\" text-anchor=\"middle\">advmod</textPath>\n",
       "    </text>\n",
       "    <path class=\"displacy-arrowhead\" d=\"M2170,441.5 L2162,429.5 2178,429.5\" fill=\"currentColor\"/>\n",
       "</g>\n",
       "\n",
       "<g class=\"displacy-arrow\">\n",
       "    <path class=\"displacy-arc\" id=\"arrow-0-12\" stroke-width=\"2px\" d=\"M770,439.5 C770,2.0 2325.0,2.0 2325.0,439.5\" fill=\"none\" stroke=\"currentColor\"/>\n",
       "    <text dy=\"1.25em\" style=\"font-size: 0.8em; letter-spacing: 1px\">\n",
       "        <textPath xlink:href=\"#arrow-0-12\" class=\"displacy-label\" startOffset=\"50%\" fill=\"currentColor\" text-anchor=\"middle\">cc</textPath>\n",
       "    </text>\n",
       "    <path class=\"displacy-arrowhead\" d=\"M2325.0,441.5 L2333.0,429.5 2317.0,429.5\" fill=\"currentColor\"/>\n",
       "</g>\n",
       "\n",
       "<g class=\"displacy-arrow\">\n",
       "    <path class=\"displacy-arc\" id=\"arrow-0-13\" stroke-width=\"2px\" d=\"M2345,439.5 C2345,352.0 2480.0,352.0 2480.0,439.5\" fill=\"none\" stroke=\"currentColor\"/>\n",
       "    <text dy=\"1.25em\" style=\"font-size: 0.8em; letter-spacing: 1px\">\n",
       "        <textPath xlink:href=\"#arrow-0-13\" class=\"displacy-label\" startOffset=\"50%\" fill=\"currentColor\" text-anchor=\"middle\">prep</textPath>\n",
       "    </text>\n",
       "    <path class=\"displacy-arrowhead\" d=\"M2480.0,441.5 L2488.0,429.5 2472.0,429.5\" fill=\"currentColor\"/>\n",
       "</g>\n",
       "\n",
       "<g class=\"displacy-arrow\">\n",
       "    <path class=\"displacy-arc\" id=\"arrow-0-14\" stroke-width=\"2px\" d=\"M2695,439.5 C2695,352.0 2830.0,352.0 2830.0,439.5\" fill=\"none\" stroke=\"currentColor\"/>\n",
       "    <text dy=\"1.25em\" style=\"font-size: 0.8em; letter-spacing: 1px\">\n",
       "        <textPath xlink:href=\"#arrow-0-14\" class=\"displacy-label\" startOffset=\"50%\" fill=\"currentColor\" text-anchor=\"middle\">compound</textPath>\n",
       "    </text>\n",
       "    <path class=\"displacy-arrowhead\" d=\"M2695,441.5 L2687,429.5 2703,429.5\" fill=\"currentColor\"/>\n",
       "</g>\n",
       "\n",
       "<g class=\"displacy-arrow\">\n",
       "    <path class=\"displacy-arc\" id=\"arrow-0-15\" stroke-width=\"2px\" d=\"M2520,439.5 C2520,264.5 2835.0,264.5 2835.0,439.5\" fill=\"none\" stroke=\"currentColor\"/>\n",
       "    <text dy=\"1.25em\" style=\"font-size: 0.8em; letter-spacing: 1px\">\n",
       "        <textPath xlink:href=\"#arrow-0-15\" class=\"displacy-label\" startOffset=\"50%\" fill=\"currentColor\" text-anchor=\"middle\">pobj</textPath>\n",
       "    </text>\n",
       "    <path class=\"displacy-arrowhead\" d=\"M2835.0,441.5 L2843.0,429.5 2827.0,429.5\" fill=\"currentColor\"/>\n",
       "</g>\n",
       "\n",
       "<g class=\"displacy-arrow\">\n",
       "    <path class=\"displacy-arc\" id=\"arrow-0-16\" stroke-width=\"2px\" d=\"M2870,439.5 C2870,352.0 3005.0,352.0 3005.0,439.5\" fill=\"none\" stroke=\"currentColor\"/>\n",
       "    <text dy=\"1.25em\" style=\"font-size: 0.8em; letter-spacing: 1px\">\n",
       "        <textPath xlink:href=\"#arrow-0-16\" class=\"displacy-label\" startOffset=\"50%\" fill=\"currentColor\" text-anchor=\"middle\">cc</textPath>\n",
       "    </text>\n",
       "    <path class=\"displacy-arrowhead\" d=\"M3005.0,441.5 L3013.0,429.5 2997.0,429.5\" fill=\"currentColor\"/>\n",
       "</g>\n",
       "\n",
       "<g class=\"displacy-arrow\">\n",
       "    <path class=\"displacy-arc\" id=\"arrow-0-17\" stroke-width=\"2px\" d=\"M3220,439.5 C3220,264.5 3535.0,264.5 3535.0,439.5\" fill=\"none\" stroke=\"currentColor\"/>\n",
       "    <text dy=\"1.25em\" style=\"font-size: 0.8em; letter-spacing: 1px\">\n",
       "        <textPath xlink:href=\"#arrow-0-17\" class=\"displacy-label\" startOffset=\"50%\" fill=\"currentColor\" text-anchor=\"middle\">amod</textPath>\n",
       "    </text>\n",
       "    <path class=\"displacy-arrowhead\" d=\"M3220,441.5 L3212,429.5 3228,429.5\" fill=\"currentColor\"/>\n",
       "</g>\n",
       "\n",
       "<g class=\"displacy-arrow\">\n",
       "    <path class=\"displacy-arc\" id=\"arrow-0-18\" stroke-width=\"2px\" d=\"M3395,439.5 C3395,352.0 3530.0,352.0 3530.0,439.5\" fill=\"none\" stroke=\"currentColor\"/>\n",
       "    <text dy=\"1.25em\" style=\"font-size: 0.8em; letter-spacing: 1px\">\n",
       "        <textPath xlink:href=\"#arrow-0-18\" class=\"displacy-label\" startOffset=\"50%\" fill=\"currentColor\" text-anchor=\"middle\">compound</textPath>\n",
       "    </text>\n",
       "    <path class=\"displacy-arrowhead\" d=\"M3395,441.5 L3387,429.5 3403,429.5\" fill=\"currentColor\"/>\n",
       "</g>\n",
       "\n",
       "<g class=\"displacy-arrow\">\n",
       "    <path class=\"displacy-arc\" id=\"arrow-0-19\" stroke-width=\"2px\" d=\"M2870,439.5 C2870,89.5 3545.0,89.5 3545.0,439.5\" fill=\"none\" stroke=\"currentColor\"/>\n",
       "    <text dy=\"1.25em\" style=\"font-size: 0.8em; letter-spacing: 1px\">\n",
       "        <textPath xlink:href=\"#arrow-0-19\" class=\"displacy-label\" startOffset=\"50%\" fill=\"currentColor\" text-anchor=\"middle\">conj</textPath>\n",
       "    </text>\n",
       "    <path class=\"displacy-arrowhead\" d=\"M3545.0,441.5 L3553.0,429.5 3537.0,429.5\" fill=\"currentColor\"/>\n",
       "</g>\n",
       "</svg>"
      ],
      "text/plain": [
       "<IPython.core.display.HTML object>"
      ]
     },
     "metadata": {},
     "output_type": "display_data"
    }
   ],
   "source": [
    "displacy_doc = nlp(text)\n",
    "\n",
    "# show visualization in Jupyter Notebook\n",
    "displacy.render(docs=displacy_doc, style='dep', jupyter=True)"
   ]
  },
  {
   "cell_type": "code",
   "execution_count": 45,
   "metadata": {},
   "outputs": [],
   "source": [
    "def create_pos_phrases(doc):\n",
    "\n",
    "    phrases = [] \n",
    "\n",
    "    doc = nlp(doc, disable=['ner','tagger'])\n",
    "    for token in doc:\n",
    "        direct_object = 'obj' in token.dep_\n",
    "        if direct_object:\n",
    "            # find any dependent terms to the left of (preceeding) the object\n",
    "            for left_term in (t.text for t in token.lefts if not t.is_stop):\n",
    "                # combine the dependent term and object, separated by an underscore\n",
    "                # e.g. travel agency ==> travel_agency\n",
    "                phrase = '{}_{}'.format(left_term,token.text)\n",
    "                phrases.append(phrase)\n",
    "    \n",
    "    # convert list of distinct phrases into a sentence\n",
    "    return ' '.join(set(phrases))"
   ]
  },
  {
   "cell_type": "code",
   "execution_count": 46,
   "metadata": {},
   "outputs": [
    {
     "data": {
      "text/html": [
       "<div>\n",
       "<style scoped>\n",
       "    .dataframe tbody tr th:only-of-type {\n",
       "        vertical-align: middle;\n",
       "    }\n",
       "\n",
       "    .dataframe tbody tr th {\n",
       "        vertical-align: top;\n",
       "    }\n",
       "\n",
       "    .dataframe thead th {\n",
       "        text-align: right;\n",
       "    }\n",
       "</style>\n",
       "<table border=\"1\" class=\"dataframe\">\n",
       "  <thead>\n",
       "    <tr style=\"text-align: right;\">\n",
       "      <th></th>\n",
       "      <th>sentences</th>\n",
       "    </tr>\n",
       "  </thead>\n",
       "  <tbody>\n",
       "    <tr>\n",
       "      <th>0</th>\n",
       "      <td>immune complexes in rheumatic disease</td>\n",
       "    </tr>\n",
       "    <tr>\n",
       "      <th>1</th>\n",
       "      <td>gluten and lymphocytes in coeliac disease</td>\n",
       "    </tr>\n",
       "    <tr>\n",
       "      <th>2</th>\n",
       "      <td>this activity correlated best with the severity and duration of the disease rather than with gam...</td>\n",
       "    </tr>\n",
       "    <tr>\n",
       "      <th>3</th>\n",
       "      <td>evidence exists that they control some of the peripheral manifestations of the disease including...</td>\n",
       "    </tr>\n",
       "    <tr>\n",
       "      <th>4</th>\n",
       "      <td>the finding of additional substitute cf antigens for the hrvl agent may have implications in the...</td>\n",
       "    </tr>\n",
       "  </tbody>\n",
       "</table>\n",
       "</div>"
      ],
      "text/plain": [
       "                                                                                             sentences\n",
       "0                                                                immune complexes in rheumatic disease\n",
       "1                                                            gluten and lymphocytes in coeliac disease\n",
       "2  this activity correlated best with the severity and duration of the disease rather than with gam...\n",
       "3  evidence exists that they control some of the peripheral manifestations of the disease including...\n",
       "4  the finding of additional substitute cf antigens for the hrvl agent may have implications in the..."
      ]
     },
     "execution_count": 46,
     "metadata": {},
     "output_type": "execute_result"
    }
   ],
   "source": [
    "# review data\n",
    "matches_df.head()"
   ]
  },
  {
   "cell_type": "code",
   "execution_count": 47,
   "metadata": {},
   "outputs": [
    {
     "name": "stdout",
     "output_type": "stream",
     "text": [
      "rheumatic_disease\n",
      "coeliac_disease\n",
      "gamma_globulin\n",
      "peripheral_manifestations cardiac_output palpitations_tachycardia thyrotoxic_process underlying_process\n",
      "additional_antigens human_disease hrvl_agent cf_antigens\n",
      "Wall time: 225 ms\n"
     ]
    }
   ],
   "source": [
    "%%time\n",
    "\n",
    "for sent in matched_sents_full[0:5]:\n",
    "    print(create_pos_phrases(sent))"
   ]
  },
  {
   "cell_type": "code",
   "execution_count": 48,
   "metadata": {},
   "outputs": [
    {
     "name": "stdout",
     "output_type": "stream",
     "text": [
      "Wall time: 218 ms\n"
     ]
    },
    {
     "data": {
      "text/plain": [
       "0                                                                                      rheumatic_disease\n",
       "1                                                                                        coeliac_disease\n",
       "2                                                                                         gamma_globulin\n",
       "3    peripheral_manifestations cardiac_output palpitations_tachycardia thyrotoxic_process underlying_...\n",
       "4                                               additional_antigens human_disease hrvl_agent cf_antigens\n",
       "Name: sentences, dtype: object"
      ]
     },
     "execution_count": 48,
     "metadata": {},
     "output_type": "execute_result"
    }
   ],
   "source": [
    "%%time\n",
    "\n",
    "# apply the custom function to every element in the dataframe\n",
    "matches_df[0:5].sentences.apply(create_pos_phrases)"
   ]
  },
  {
   "cell_type": "markdown",
   "metadata": {},
   "source": [
    "##### Pandas Apply\n",
    "\n",
    "apply is an efficient and fast approach to 'apply' a function to every element in a row. applymap does the same to every element in the entire dataframe (e.g. convert all ints to floats)\n",
    "\n",
    "Example: https://chrisalbon.com/python/data_wrangling/pandas_apply_operations_to_dataframes/"
   ]
  },
  {
   "cell_type": "code",
   "execution_count": 49,
   "metadata": {},
   "outputs": [
    {
     "data": {
      "text/html": [
       "<div>\n",
       "<style scoped>\n",
       "    .dataframe tbody tr th:only-of-type {\n",
       "        vertical-align: middle;\n",
       "    }\n",
       "\n",
       "    .dataframe tbody tr th {\n",
       "        vertical-align: top;\n",
       "    }\n",
       "\n",
       "    .dataframe thead th {\n",
       "        text-align: right;\n",
       "    }\n",
       "</style>\n",
       "<table border=\"1\" class=\"dataframe\">\n",
       "  <thead>\n",
       "    <tr style=\"text-align: right;\">\n",
       "      <th></th>\n",
       "      <th>col1</th>\n",
       "      <th>col2</th>\n",
       "    </tr>\n",
       "  </thead>\n",
       "  <tbody>\n",
       "    <tr>\n",
       "      <th>0</th>\n",
       "      <td>0</td>\n",
       "      <td>3</td>\n",
       "    </tr>\n",
       "    <tr>\n",
       "      <th>1</th>\n",
       "      <td>1</td>\n",
       "      <td>4</td>\n",
       "    </tr>\n",
       "    <tr>\n",
       "      <th>2</th>\n",
       "      <td>2</td>\n",
       "      <td>5</td>\n",
       "    </tr>\n",
       "  </tbody>\n",
       "</table>\n",
       "</div>"
      ],
      "text/plain": [
       "   col1  col2\n",
       "0     0     3\n",
       "1     1     4\n",
       "2     2     5"
      ]
     },
     "execution_count": 49,
     "metadata": {},
     "output_type": "execute_result"
    }
   ],
   "source": [
    "# create a small dataframe with example data\n",
    "example_data = {'col1':range(0,3),'col2':range(3,6)}\n",
    "test_df = pd.DataFrame(example_data)\n",
    "test_df"
   ]
  },
  {
   "cell_type": "code",
   "execution_count": 50,
   "metadata": {},
   "outputs": [
    {
     "data": {
      "text/plain": [
       "0    0.0\n",
       "1    1.0\n",
       "2    2.0\n",
       "Name: col1, dtype: float64"
      ]
     },
     "execution_count": 50,
     "metadata": {},
     "output_type": "execute_result"
    }
   ],
   "source": [
    "# apply a built-in function to each element in a column\n",
    "test_df['col1'].apply(float)"
   ]
  },
  {
   "cell_type": "code",
   "execution_count": 51,
   "metadata": {},
   "outputs": [
    {
     "data": {
      "text/plain": [
       "0    5\n",
       "1    6\n",
       "2    7\n",
       "Name: col1, dtype: int64"
      ]
     },
     "execution_count": 51,
     "metadata": {},
     "output_type": "execute_result"
    }
   ],
   "source": [
    "# apply a custom function to every element in a column\n",
    "def add_five(row):\n",
    "    return row + 5\n",
    "\n",
    "test_df['col1'].apply(add_five)"
   ]
  },
  {
   "cell_type": "code",
   "execution_count": 52,
   "metadata": {},
   "outputs": [
    {
     "data": {
      "text/plain": [
       "0    5\n",
       "1    6\n",
       "2    7\n",
       "Name: col1, dtype: int64"
      ]
     },
     "execution_count": 52,
     "metadata": {},
     "output_type": "execute_result"
    }
   ],
   "source": [
    "# apply an annonomous function to every element in a column\n",
    "test_df['col1'].apply(lambda x: x+5)"
   ]
  },
  {
   "cell_type": "code",
   "execution_count": 53,
   "metadata": {},
   "outputs": [
    {
     "data": {
      "text/html": [
       "<div>\n",
       "<style scoped>\n",
       "    .dataframe tbody tr th:only-of-type {\n",
       "        vertical-align: middle;\n",
       "    }\n",
       "\n",
       "    .dataframe tbody tr th {\n",
       "        vertical-align: top;\n",
       "    }\n",
       "\n",
       "    .dataframe thead th {\n",
       "        text-align: right;\n",
       "    }\n",
       "</style>\n",
       "<table border=\"1\" class=\"dataframe\">\n",
       "  <thead>\n",
       "    <tr style=\"text-align: right;\">\n",
       "      <th></th>\n",
       "      <th>col1</th>\n",
       "      <th>col2</th>\n",
       "    </tr>\n",
       "  </thead>\n",
       "  <tbody>\n",
       "    <tr>\n",
       "      <th>0</th>\n",
       "      <td>0.0</td>\n",
       "      <td>3.0</td>\n",
       "    </tr>\n",
       "    <tr>\n",
       "      <th>1</th>\n",
       "      <td>1.0</td>\n",
       "      <td>4.0</td>\n",
       "    </tr>\n",
       "    <tr>\n",
       "      <th>2</th>\n",
       "      <td>2.0</td>\n",
       "      <td>5.0</td>\n",
       "    </tr>\n",
       "  </tbody>\n",
       "</table>\n",
       "</div>"
      ],
      "text/plain": [
       "   col1  col2\n",
       "0   0.0   3.0\n",
       "1   1.0   4.0\n",
       "2   2.0   5.0"
      ]
     },
     "execution_count": 53,
     "metadata": {},
     "output_type": "execute_result"
    }
   ],
   "source": [
    "# apply a built-in function to every element in a dataframe \n",
    "test_df.applymap(float)  # applymap"
   ]
  },
  {
   "cell_type": "code",
   "execution_count": 54,
   "metadata": {},
   "outputs": [
    {
     "data": {
      "text/html": [
       "<div>\n",
       "<style scoped>\n",
       "    .dataframe tbody tr th:only-of-type {\n",
       "        vertical-align: middle;\n",
       "    }\n",
       "\n",
       "    .dataframe tbody tr th {\n",
       "        vertical-align: top;\n",
       "    }\n",
       "\n",
       "    .dataframe thead th {\n",
       "        text-align: right;\n",
       "    }\n",
       "</style>\n",
       "<table border=\"1\" class=\"dataframe\">\n",
       "  <thead>\n",
       "    <tr style=\"text-align: right;\">\n",
       "      <th></th>\n",
       "      <th>sentences</th>\n",
       "      <th>create_pos_phrases</th>\n",
       "    </tr>\n",
       "  </thead>\n",
       "  <tbody>\n",
       "    <tr>\n",
       "      <th>0</th>\n",
       "      <td>immune complexes in rheumatic disease</td>\n",
       "      <td>rheumatic_disease</td>\n",
       "    </tr>\n",
       "    <tr>\n",
       "      <th>1</th>\n",
       "      <td>gluten and lymphocytes in coeliac disease</td>\n",
       "      <td>coeliac_disease</td>\n",
       "    </tr>\n",
       "    <tr>\n",
       "      <th>2</th>\n",
       "      <td>this activity correlated best with the severity and duration of the disease rather than with gam...</td>\n",
       "      <td>gamma_globulin</td>\n",
       "    </tr>\n",
       "    <tr>\n",
       "      <th>3</th>\n",
       "      <td>evidence exists that they control some of the peripheral manifestations of the disease including...</td>\n",
       "      <td>peripheral_manifestations cardiac_output palpitations_tachycardia thyrotoxic_process underlying_...</td>\n",
       "    </tr>\n",
       "    <tr>\n",
       "      <th>4</th>\n",
       "      <td>the finding of additional substitute cf antigens for the hrvl agent may have implications in the...</td>\n",
       "      <td>additional_antigens human_disease hrvl_agent cf_antigens</td>\n",
       "    </tr>\n",
       "  </tbody>\n",
       "</table>\n",
       "</div>"
      ],
      "text/plain": [
       "                                                                                             sentences  \\\n",
       "0                                                                immune complexes in rheumatic disease   \n",
       "1                                                            gluten and lymphocytes in coeliac disease   \n",
       "2  this activity correlated best with the severity and duration of the disease rather than with gam...   \n",
       "3  evidence exists that they control some of the peripheral manifestations of the disease including...   \n",
       "4  the finding of additional substitute cf antigens for the hrvl agent may have implications in the...   \n",
       "\n",
       "                                                                                    create_pos_phrases  \n",
       "0                                                                                    rheumatic_disease  \n",
       "1                                                                                      coeliac_disease  \n",
       "2                                                                                       gamma_globulin  \n",
       "3  peripheral_manifestations cardiac_output palpitations_tachycardia thyrotoxic_process underlying_...  \n",
       "4                                             additional_antigens human_disease hrvl_agent cf_antigens  "
      ]
     },
     "execution_count": 54,
     "metadata": {},
     "output_type": "execute_result"
    }
   ],
   "source": [
    "# create a new empty column\n",
    "matches_df['create_pos_phrases'] = ''\n",
    "\n",
    "# apply the custom function to every element in the dataframe\n",
    "matches_df.loc[0:5, 'create_pos_phrases'] = matches_df[0:5].sentences.apply(create_pos_phrases)\n",
    "matches_df.head()"
   ]
  },
  {
   "cell_type": "markdown",
   "metadata": {},
   "source": [
    "### Collocations\n",
    "\n",
    "\"A collocation is an expression consisting of two or more words that\n",
    "correspond to some conventional way of saying things. Or in the words\n",
    "of Firth (1957: 181): “Collocations of a given word are statements of the\n",
    "habitual or customary places of that word.” Collocations include noun\n",
    "phrases like strong tea and weapons of mass destruction, phrasal verbs like\n",
    "to make up, and other stock phrases like the rich and powerful. Particularly\n",
    "interesting are the subtle and not-easily-explainable patterns of word usage\n",
    "that native speakers all know: why we say a stiff breeze but not a stiff wind\n",
    "(while either a strong breeze or a strong wind is okay), or why we speak of\n",
    "broad daylight (but not bright daylight or narrow darkness)\n",
    "\n",
    "\n",
    "\n",
    "There are actually different definitions of the notion of collocation. Some\n",
    "authors in the computational and statistical literature define a collocation\n",
    "as two or more consecutive words with a special behavior, for example\n",
    "Choueka (1988):\n",
    "[A collocation is defined as] a sequence of two or more consecutive\n",
    "words, that has characteristics of a syntactic and semantic\n",
    "unit, and whose exact and unambiguous meaning or connotation\n",
    "cannot be derived directly from the meaning or connotation of its\n",
    "components. In most linguistically oriented research, a phrase\n",
    "can be a collocation even if it is not consecutive (as in the example knock\n",
    ". . . door). The following criteria are typical of linguistic treatments of collocations:\n",
    "\n",
    "**Non-compositionality**: The meaning of a collocation is not a straightforward\n",
    "composition of the meanings of its parts. Either the meaning\n",
    "is completely different from the free combination (as in the case of idioms\n",
    "like kick the bucket) or there is a connotation or added element of\n",
    "meaning that cannot be predicted from the parts. For example, white\n",
    "wine, white hair and white woman all refer to slightly different colors, so\n",
    "we can regard them as collocations. \n",
    "\n",
    "**Non-substitutability**: We cannot substitute near-synonyms for the\n",
    "components of a colloction. For example, we can’t say yellow wine\n",
    "instead of white wine even though yellow is as good a description of the\n",
    "color of white wine as white is (it is kind of a yellowish white).\n",
    "\n",
    "**Non-modifiability**: Many collocations cannot be freely modified with\n",
    "additional lexical material or through grammatical transformations.\n",
    "This is especially true for frozen expressions like idioms. For example,\n",
    "we can’t modify frog in to get a frog in one’s throat into to get an ugly\n",
    "frog in one’s throat although usually nouns like frog can be modified by\n",
    "adjectives like ugly. Similarly, going from singular to plural can make\n",
    "an idiom ill-formed, for example in people as poor as church mice.\"\n",
    "\n",
    "SOURCE: https://nlp.stanford.edu/fsnlp/promo/colloc.pdf"
   ]
  },
  {
   "cell_type": "markdown",
   "metadata": {},
   "source": [
    "### Exercise\n",
    "\n",
    "Create a function that returns a window of size n over a given sentence. \n",
    "\n",
    "For the sentence **'rather than pay the fee'** return the following if the window is n=3:\n",
    "- ['rather', 'than', 'pay'],\n",
    "- ['than','pay','the']\n",
    "- ['pay', 'the','fee']\n",
    "- ...\n"
   ]
  },
  {
   "cell_type": "code",
   "execution_count": 55,
   "metadata": {},
   "outputs": [
    {
     "name": "stdout",
     "output_type": "stream",
     "text": [
      "['immune', 'complexes', 'in', 'rheumatic', 'disease']\n"
     ]
    }
   ],
   "source": [
    "# example sentence\n",
    "sent = ' '.join(matches_df['sentences'][0:1]).split()\n",
    "print(sent)"
   ]
  },
  {
   "cell_type": "code",
   "execution_count": 56,
   "metadata": {},
   "outputs": [
    {
     "data": {
      "text/plain": [
       "[['immune', 'complexes', 'in'],\n",
       " ['complexes', 'in', 'rheumatic'],\n",
       " ['in', 'rheumatic', 'disease']]"
      ]
     },
     "execution_count": 56,
     "metadata": {},
     "output_type": "execute_result"
    }
   ],
   "source": [
    "def create_sentence_windows(sentence, n=3):\n",
    "    \"create a sliding window over the n terms in a list of terms\"\n",
    "        \n",
    "    # create a window on the first n terms by slicing the sentence into the first n terms\n",
    "    window = sentence[0:n]\n",
    "    \n",
    "    # create a list to store all windows\n",
    "    # add the first window that was created above\n",
    "    sentence_windows = [window]\n",
    "\n",
    "    # iterate through the rest of the terms of the sentence\n",
    "    # e.g. if n=3, then create a new window with terms 2 to 4\n",
    "    for term in sentence[n:]:\n",
    "        # remove the first terms of the window and add the next term from the sentence\n",
    "        window = window[1:] + [term]\n",
    "        # add the updated window to the master list\n",
    "        sentence_windows.append(window)\n",
    "\n",
    "    return sentence_windows\n",
    "\n",
    "# execute the function\n",
    "sentence_window = create_sentence_windows(sent, n=3)\n",
    "# view the first few results\n",
    "sentence_window[0:5]"
   ]
  },
  {
   "cell_type": "code",
   "execution_count": 57,
   "metadata": {},
   "outputs": [
    {
     "data": {
      "text/plain": [
       "[['immune', 'complexes', 'in'],\n",
       " ['complexes', 'in', 'rheumatic'],\n",
       " ['in', 'rheumatic', 'disease'],\n",
       " ['gluten', 'and', 'lymphocytes'],\n",
       " ['and', 'lymphocytes', 'in']]"
      ]
     },
     "execution_count": 57,
     "metadata": {},
     "output_type": "execute_result"
    }
   ],
   "source": [
    "# execute the function for all sentences\n",
    "\n",
    "# create a list to store all windows\n",
    "sentence_window = []\n",
    "\n",
    "for sent in matches_df['sentences']:\n",
    "    # convert the sentence string into a list of terms\n",
    "    sent = sent.split()\n",
    "    \n",
    "    # create the sentence windows and append to the sentence_windows list\n",
    "    windows = create_sentence_windows(sent, n=3)\n",
    "    \n",
    "    # add each window to the sentence_window list\n",
    "    # iterate through windows to make each item in sentence window a window, not a list of windows\n",
    "    for window in windows:\n",
    "        sentence_window.append(window)\n",
    "\n",
    "# view the first five results\n",
    "sentence_window[0:5]"
   ]
  },
  {
   "cell_type": "code",
   "execution_count": 58,
   "metadata": {},
   "outputs": [
    {
     "data": {
      "text/plain": [
       "[('disease_virus', 1118),\n",
       " ('heart_disease', 1044),\n",
       " ('hodgkin_disease', 673),\n",
       " ('mouth_disease', 662),\n",
       " ('marek_disease', 527),\n",
       " ('graves_disease', 497),\n",
       " ('liver_disease', 482),\n",
       " ('coronary_heart', 399),\n",
       " ('coronary_disease', 388),\n",
       " ('foot_mouth', 336),\n",
       " ('crohn_disease', 306),\n",
       " ('ischemic_heart', 274),\n",
       " ('paget_disease', 265),\n",
       " ('cushing_disease', 256),\n",
       " ('newcastle_disease', 253),\n",
       " ('chronic_disease', 247),\n",
       " ('malignant_disease', 239),\n",
       " ('author_transl', 211),\n",
       " ('respiratory_disease', 207),\n",
       " ('mouth_virus', 204)]"
      ]
     },
     "execution_count": 58,
     "metadata": {},
     "output_type": "execute_result"
    }
   ],
   "source": [
    "from itertools import combinations\n",
    "from collections import defaultdict\n",
    "\n",
    "# create a defaultdict to keep track of common phrases\n",
    "window_count = defaultdict(int)\n",
    "\n",
    "for sent in sentence_window:\n",
    "    # remove stop words\n",
    "    sentence = [term for term in sent if term not in STOP_WORDS]\n",
    "    \n",
    "    # create a combination of terms\n",
    "    # e.g. (rather, than, pay) --> (rather,than), (than,pay), (rather,pay)\n",
    "    for combo in combinations(sentence, 2):\n",
    "        # convert the tuple to a term\n",
    "        # e.g. (rather, than) --> 'rather_than'\n",
    "        phrase = '_'.join(combo)\n",
    "        \n",
    "        # increment the count for the term each time it appears to identify the most common terms\n",
    "        window_count[phrase] += 1\n",
    "\n",
    "# sort to view the most common terms\n",
    "# the key (lambda x: x[1]) sorts by the count\n",
    "sorted(window_count.items(), key=lambda x: x[1], reverse=True)[0:20]"
   ]
  },
  {
   "cell_type": "markdown",
   "metadata": {},
   "source": [
    "### Phrase (collocation) Detection\n",
    "\n",
    "Phrase modeling is another approach to learning combinations of tokens that together represent meaningful multi-word concepts. We can develop phrase models by looping over the the words in our reviews and looking for words that co-occur (i.e., appear one after another) together much more frequently than you would expect them to by random chance. The formula our phrase models will use to determine whether two tokens $A$ and $B$ constitute a phrase is:\n",
    "\n",
    "$$\\frac{count(A\\ B) - count_{min}}{count(A) * count(B)} > threshold$$\n",
    "\n",
    "- $count(A\\ B)$ is the number of times the tokens $A\\ B$ appear in the corpus in order\n",
    "- $count_{min}$ is a user-defined parameter to ensure that accepted phrases occur a minimum number of times\n",
    "- $count(A)$ is the number of times token $A$ appears in the corpus\n",
    "- $count(B)$ is the number of times token $B$ appears in the corpus\n",
    "- $threshold$ is a user-defined parameter to control how strong of a relationship between two tokens the model requires before accepting them as a phrase\n",
    "\n",
    "Once our phrase model has been trained on our corpus, we can apply it to new text. When our model encounters two tokens in new text that identifies as a phrase, it will merge the two into a single new token.\n",
    "\n",
    "Phrase modeling is superficially similar to named entity detection in that you would expect named entities to become phrases in the model (so new york would become new_york). But you would also expect multi-word expressions that represent common concepts, but aren't specifically named entities (such as happy hour) to also become phrases in the model.\n",
    "\n",
    "We turn to the indispensible gensim library to help us with phrase modeling — the Phrases class in particular.\n",
    "\n",
    "SOURCE: \n",
    "- https://github.com/skipgram/modern-nlp-in-python/blob/master/executable/Modern_NLP_in_Python.ipynb\n",
    "- https://papers.nips.cc/paper/5021-distributed-representations-of-words-and-phrases-and-their-compositionality.pdf"
   ]
  },
  {
   "cell_type": "markdown",
   "metadata": {},
   "source": [
    "##### Scikit-learn API for Gensim"
   ]
  },
  {
   "cell_type": "code",
   "execution_count": 59,
   "metadata": {},
   "outputs": [
    {
     "name": "stdout",
     "output_type": "stream",
     "text": [
      "[['immune', 'complexes', 'in', 'rheumatic', 'disease'], ['gluten', 'and', 'lymphocytes', 'in', 'coeliac', 'disease'], ['this', 'activity', 'correlated', 'best', 'with', 'the', 'severity', 'and', 'duration', 'of', 'the', 'disease', 'rather', 'than', 'with', 'gamma', 'globulin', 'or', 'total', 'protein', 'concentrations'], ['evidence', 'exists', 'that', 'they', 'control', 'some', 'of', 'the', 'peripheral', 'manifestations', 'of', 'the', 'disease', 'including', 'nervousness', 'palpitations', 'tachycardia', 'increased', 'cardiac', 'output', 'and', 'tremor', 'but', 'they', 'do', 'not', 'appear', 'to', 'affect', 'the', 'underlying', 'thyrotoxic', 'process', 'itself'], ['the', 'finding', 'of', 'additional', 'substitute', 'cf', 'antigens', 'for', 'the', 'hrvl', 'agent', 'may', 'have', 'implications', 'in', 'the', 'against', 'human', 'disease'], ['most', 'of', 'them', 'were', 'found', 'in', 'patients', 'with', 'digestive', 'tract', 'disease', 'essentially', 'colonic', 'cancer'], ['latency', 'in', 'herpesvirus', 'hominis', 'its', 'relationship', 'to', 'oncogenesis', 'and', 'recurrent', 'disease'], ['sixteen', 'of', 'patients', 'treated', 'with', 'intent', 'of', 'cure', 'are', 'considered', 'well', 'with', 'no', 'evidence', 'of', 'disease'], ['the', 'remaining', 'cases', 'were', 'considered', 'failures', 'all', 'died', 'except', 'one', 'living', 'with', 'disease'], ['six', 'of', 'twelve', 'cases', 'per', 'cent', 'survived', 'three', 'years', 'and', 'of', 'cases', 'per', 'cent', 'survived', 'for', 'one', 'year', 'free', 'of', 'disease']]\n"
     ]
    }
   ],
   "source": [
    "print(matched_sents[0:10])"
   ]
  },
  {
   "cell_type": "code",
   "execution_count": 60,
   "metadata": {},
   "outputs": [
    {
     "name": "stderr",
     "output_type": "stream",
     "text": [
      "C:\\Users\\alsherman\\AppData\\Local\\Continuum\\anaconda3\\envs\\guild\\lib\\site-packages\\gensim\\utils.py:1209: UserWarning: detected Windows; aliasing chunkize to chunkize_serial\n",
      "  warnings.warn(\"detected Windows; aliasing chunkize to chunkize_serial\")\n"
     ]
    },
    {
     "data": {
      "text/plain": [
       "PhrasesTransformer(delimiter=b'_', max_vocab_size=40000000, min_count=5,\n",
       "          progress_per=10000, scoring='default', threshold=5)"
      ]
     },
     "execution_count": 60,
     "metadata": {},
     "output_type": "execute_result"
    }
   ],
   "source": [
    "from gensim.sklearn_api.phrases import PhrasesTransformer\n",
    "\n",
    "sklearn_phrases = PhrasesTransformer(min_count=5, threshold=5)\n",
    "sklearn_phrases.fit(matched_sents)"
   ]
  },
  {
   "cell_type": "code",
   "execution_count": 61,
   "metadata": {},
   "outputs": [
    {
     "name": "stderr",
     "output_type": "stream",
     "text": [
      "C:\\Users\\alsherman\\AppData\\Local\\Continuum\\anaconda3\\envs\\guild\\lib\\site-packages\\gensim\\models\\phrases.py:598: UserWarning: For a faster implementation, use the gensim.models.phrases.Phraser class\n",
      "  warnings.warn(\"For a faster implementation, use the gensim.models.phrases.Phraser class\")\n"
     ]
    },
    {
     "name": "stdout",
     "output_type": "stream",
     "text": [
      "{'benign_course', 'dermatitis_herpetiformis', 'lymphoblastic_leukemia', 'hla_bw', 'contribute_to', 'an_adult', 'dominantly_inherited', 'post_operative', 'to_produce', 'bowen_disease', 'newcastle_disease', 'huntington_disease', 'studies_on', 'causative_agents', 'platelet_aggregation', 'tool_for', 'immune_system', 'cells_infected', 'virus_neutralizing', 'be_demonstrated', 'attributable_to', 'fibroblasts_from', 'followed_by', 'no_difference', 'determined_by', 'follow_up', 'with_ulcerative', 'corticosteroid_therapy', 'other_causes', 'been_reported', 'designed_to', 'venereal_disease', 'adult_form', 'seven_patients', 'wilson_disease', 'who_are', 'believe_that', 'most_effective', 'in_terms', 'double_blind', 'has_provided', 'alpha_chain', 'nucleic_acid', 'relation_to', 'no_correlation', 'high_levels', 'pathogenesis_of', 'accompanied_by', 'our_experience', 'body_weight', 'urinary_tract', 'whipple_disease', 'herpesvirus_mdhv', 'one_day', 'correlate_with', 'short_stature', 'not_yet', 'burkitt_lymphoma', 'produced_by', 'bursal_disease', 'was_noted', 'resulting_from', 'mg_dl', 'gestational_trophoblastic', 'were_tested', 'untreated_coeliac', 'oral_contraceptives', 'valvular_heart', 'one_year', 'was_demonstrated', 'not_correlate', 'removed_from', 'these_data', 'malignant_neoplasms', 'intravascular_coagulation', 'as_result', 'the_authors', 'other_organs', 'was_undertaken', 'is_therefore', 'life_threatening', 'large_number', 'we_report', 'risk_factors', 'sera_from', 'indirect_complement', 'plasma_exchange', 'guinea_pigs', 'systemic_lupus', 'rosette_formation', 'its_relationship', 'cellular_immune', 'tissue_culture', 'cardiac_rhythm', 'may_occur', 'first_degree', 'acth_concentrations', 'were_detected', 'than_years', 'specific_pathogen', 'cell_line', 'helpful_in', 'sinus_node', 'anti_foot', 'interferon_induction', 'left_ventricular', 'severe_combined', 'it_should', 'van_buchem', 'radiation_therapy', 'antithrombin_iii', 'high_proportion', 'is_characterized', 'differentiated_from', 'elevated_levels', 'acid_glycoprotein', 'adenylate_cyclase', 'adenosine_monophosphate', 'did_not', 'pre_beta', 'relationship_between', 'year_old', 'is_probably', 'regard_to', 'tends_to', 'cell_mediated', 'in_situ', 'perthes_disease', 'was_conducted', 'twenty_three', 'retrospective_study', 'sickle_cell', 'is_suggested', 'myelin_basic', 'equal_to', 'characterized_by', 'day_old', 'serum_lipids', 'to_establish', 'pulmonary_arterial', 'previously_treated', 'per_se', 'neutralizing_antibody', 'to_develop', 'serum_afp', 'electrophoretic_mobility', 'stage_iv', 'surgical_management', 'virus_ndv', 'antibody_response', 'peripheral_arterial', 'all_stages', 'experimental_animals', 'was_made', 'skin_fibroblasts', 'non_neoplastic', 'patients_who', 'successful_treatment', 'symposium_on', 'seem_to', 'autosomal_recessive', 'three_cases', 'more_rapidly', 'been_demonstrated', 'was_established', 'noted_in', 'old_age', 'more_sensitive', 'differences_in', 'is_proposed', 'matched_controls', 'fatty_acids', 'peripheral_neuropathy', 'altered_by', 'exposed_to', 'compared_to', 'alkaline_phosphatase', 'electron_microscopy', 'an_inherited', 'addition_to', 'parathyroid_hormone', 'autoimmune_hemolytic', 'high_risk', 'acute_leukaemia', 'patient_died', 'eight_patients', 'one_patient', 'elevated_plasma', 'surgical_resection', 'plasma_cortisol', 'mdv_dna', 'data_suggest', 'comparable_to', 'when_compared', 'effect_on', 'together_with', 'used_as', 'are_discussed', 'resulted_in', 'tay_sachs', 'alveolar_bone', 'relations_between', 'tested_for', 'nine_patients', 'spinal_cord', 'alpha_globulin', 'were_investigated', 'that_they', 'previously_reported', 'normal_range', 'itai_itai', 'more_often', 'based_on', 'age_matched', 'an_effective', 'end_stage', 'beta_lipoproteins', 'with_special', 'vaccination_against', 'age_sex', 'case_report', 'lines_derived', 'sudden_death', 'showed_that', 'virus_strains', 'three_weeks', 'was_given', 'blood_flow', 'pregnant_women', 'coronary_arteries', 'immunity_against', 'cat_scratch', 'to_recognize', 'show_that', 'cushing_syndrome', 'protection_against', 'appear_to', 'an_association', 'comparison_between', 'children_suffering', 'one_case', 'calcium_pyrophosphate', 'in_relation', 'most_frequently', 'age_group', 'human_thyroid', 'surgical_treatment', 'naturally_occurring', 'viral_hepatitis', 'renal_tubular', 'prior_to', 'any_other', 'deaths_from', 'account_for', 'are_still', 'other_types', 'muscle_fibers', 'chickens_infected', 'genetic_disorder', 'six_patients', 'viral_infections', 'wild_type', 'united_states', 'there_was', 'thyroid_function', 'ejection_fraction', 'factors_such', 'immune_responses', 'polyacrylamide_gel', 'previously_been', 'whom_had', 'pathological_findings', 'was_studied', 'acute_respiratory', 'thyroid_stimulating', 'congenital_cytomegalic', 'gilles_de', 'after_treatment', 'graft_vs', 'old_man', 'pancreatic_function', 'its_cause', 'bk_virus', 'were_carried', 'side_effects', 'surgery_for', 'they_had', 'an_abnormal', 'rather_than', 'along_with', 'cea_levels', 'up_period', 'and_wales', 'degenerative_joint', 'we_have', 'from_ischaemic', 'computed_tomography', 'heart_disease', 'white_tailed', 'extra_intestinal', 'been_established', 'subjected_to', 'lichen_planus', 'other_than', 'knowledge_about', 'an_increase', 'which_may', 'medical_treatment', 'healthy_controls', 'pick_disease', 'studied_by', 'vaccinated_against', 'particular_reference', 'measured_by', 'do_not', 'except_for', 'metabolic_defect', 'was_assessed', 'histological_findings', 'very_low', 'necessary_for', 'our_observations', 'at_present', 'darier_disease', 'beta_receptor', 'insulin_dependent', 'pathological_features', 'infected_with', 'susceptible_to', 'bowel_disease', 'is_still', 'susceptible_chickens', 'proposed_that', 'la_sota', 'diagnostic_procedures', 'central_nervous', 'acute_myocardial', 'be_associated', 'in_addition', 'oral_hygiene', 'order_to', 'inherited_disorder', 'approach_to', 'antithyroid_drugs', 'marek_disease', 'severity_of', 'skin_tests', 'body_potassium', 'four_years', 'border_disease', 'raised_serum', 'acid_base', 'free_interval', 'niemann_pick', 'malignant_lymphoma', 'glycogen_storage', 'to_measure', 'gren_syndrome', 'detected_in', 'tumor_cells', 'cell_culture', 'cytomegalovirus_infection', 'remain_alive', 'correlation_between', 'the_remaining', 'adriamycin_bleomycin', 'report_case', 'to_compare', 'those_found', 'with_advanced', 'an_acute', 'refractory_to', 'cell_surface', 'led_to', 'type_iv', 'who_had', 'complement_fixation', 'appeared_to', 'must_be', 'congenital_adrenal', 'to_evaluate', 'exposure_to', 'hepatitis_virus', 'amount_of', 'screening_test', 'total_cholesterol', 'kidney_cell', 'not_significantly', 'these_viruses', 'significantly_different', 'also_be', 'less_than', 'physical_exercise', 'thyroid_gland', 'be_differentiated', 'were_observed', 'was_not', 'an_early', 'relation_between', 'connective_tissue', 'evidence_that', 'local_recurrence', 'small_cell', 'radial_immunodiffusion', 'is_reported', 'thyroidectomy_for', 'findings_support', 'predispose_to', 'risk_factor', 'is_discussed', 'high_density', 'days_after', 'is_rare', 'liver_disease', 'staging_laparotomy', 'vascular_disease', 'collected_from', 'findings_are', 'reported_cases', 'have_shown', 'indicated_that', 'is_likely', 'in_vivo', 'implications_for', 'who_developed', 'been_made', 'healthy_control', 'techniques_for', 'most_important', 'interpreted_as', 'one_half', 'shown_to', 'exercise_tests', 'polycystic_ovarian', 'false_positive', 'response_to', 'growth_hormone', 'herpetic_eye', 'this_report', 'data_obtained', 'consistent_with', 'itsenko_cushing', 'was_investigated', 'carotid_artery', 'phytanic_acid', 'causative_agent', 'correlation_was', 'persistent_infection', 'serum_lipoproteins', 'information_on', 'lymphoblastoid_cell', 'fmd_virus', 'than_did', 'late_onset', 'past_years', 'some_cases', 'self_limited', 'were_analyzed', 'three_groups', 'year_survival', 'seven_cases', 'are_briefly', 'may_play', 'alpha_antitrypsin', 'temperature_sensitive', 'influenced_by', 'wilms_tumor', 'epidemiological_studies', 'appears_to', 'shown_that', 'comparative_study', 'concentrations_were', 'prostatic_carcinoma', 'these_studies', 'differ_from', 'to_maintain', 'antibody_titers', 'be_established', 'an_infant', 'patients_undergoing', 'leukocytes_from', 'years_old', 'immediately_after', 'lymphocytic_leukemia', 'disorder_transition', 'than_those', 'peripheral_nerve', 'normal_donors', 'into_two', 'gel_electrophoresis', 'our_knowledge', 'non_specific', 'tumor_associated', 'it_can', 'cyclic_amp', 'was_characterized', 'number_of', 'suggested_that', 'other_hand', 'which_could', 'inclusion_bodies', 'bursal_agent', 'was_seen', 'maternal_antibody', 'healthy_volunteers', 'pulmonary_metastases', 'without_evidence', 'test_for', 'sex_age', 'effective_treatment', 'this_disorder', 'advanced_malignant', 'to_be', 'suggest_that', 'absence_of', 'cytomegalovirus_cmv', 'st_depression', 'fabry_disease', 'igm_antibodies', 'is_useful', 'clinical_evidence', 'non_malignant', 'even_when', 'other_diseases', 'cell_carcinoma', 'legionnaires_disease', 'serum_levels', 'concept_that', 'control_subjects', 'management_of', 'immunity_to', 'low_incidence', 'twenty_two', 'could_not', 'small_bowel', 'escherichia_coli', 'this_study', 'immunosorbent_assay', 'concluded_that', 'but_not', 'foot_and', 'is_emphasized', 'confirmed_by', 'turkey_herpesvirus', 'density_lipoprotein', 'ischemic_heart', 'contributing_to', 'respect_to', 'gamma_globulin', 'acute_myelogenous', 'in_order', 'obstructive_airways', 'may_have', 'rheumatoid_arthritis', 'considered_as', 'regarded_as', 'herpes_zoster', 'virus_mdv', 'model_for', 'vitamin_deficiency', 'provide_an', 'adrenal_hyperplasia', 'very_high', 'serum_concentrations', 'was_used', 'observations_on', 'beta_lipoprotein', 'old_male', 'median_survival', 'if_there', 'epithelial_cells', 'years_after', 'dying_back', 'chronic_granulomatous', 'will_be', 'humoral_immune', 'has_not', 'be_expected', 'five_months', 'complicated_by', 'atherosclerotic_heart', 'heredopathia_atactica', 'mtc_pyrophosphate', 'charcot_marie', 'risk_for', 'diagnosed_as', 'measles_virus', 'aortic_valve', 'were_determined', 'factor_viii', 'be_related', 'mg_kg', 'by_direct', 'liver_biopsy', 'involved_in', 'no_significant', 'epstein_barr', 'bypass_surgery', 'suggesting_that', 'lower_respiratory', 'cell_cultures', 'early_detection', 'von_gierke', 'be_useful', 'dependent_on', 'the_presence', 'immune_complex', 'against_newcastle', 'had_no', 'at_autopsy', 'environmental_factors', 'pig_kidney', 'most_likely', 'subacute_thyroiditis', 'pulmonary_fibrosis', 'were_able', 'left_ventricle', 'were_examined', 'alive_without', 'chronic_ischemic', 'clinical_manifestation', 'hydatid_disease', 'subacute_necrotizing', 'remission_rate', 'against_foot', 'association_between', 'more_severe', 'and_mouth', 'fixation_test', 'clinical_signs', 'assessed_by', 'plasma_renin', 'different_stages', 'these_observations', 'bone_marrow', 'motor_unit', 'be_explained', 'studies_have', 'diagnostic_problems', 'guinea_pig', 'renal_bone', 'virus_particles', 'free_survival', 'factor_ix', 'peripheral_nerves', 'able_to', 'the_possibility', 'circulating_immune', 'aujeszky_disease', 'after_inoculation', 'previously_described', 'be_made', 'cholesterol_levels', 'control_group', 'significant_correlation', 'rare_disorder', 'whole_blood', 'derived_from', 'three_patients', 'differs_from', 'six_months', 'which_might', 'different_types', 'refsum_disease', 'peripheral_vascular', 'obstructive_airway', 'to_treat', 'there_is', 'been_shown', 'hdl_cholesterol', 'creutzfeldt_jakob', 'who_underwent', 'south_african', 'to_date', 'alpha_pag', 'contribution_to', 'been_found', 'inclusion_body', 'leukemia_virus', 'lower_than', 'had_higher', 'caused_by', 'ranging_from', 'enzymic_activity', 'vaccine_against', 'heavy_chain', 'all_cases', 'preventive_measures', 'synovial_fluid', 'been_observed', 'american_kestrel', 'two_cases', 'blood_plasma', 'alone_or', 'ventricular_septal', 'nerve_conduction', 'triple_vessel', 'they_are', 'inherited_metabolic', 'cell_lines', 'an_autosomal', 'cyclic_nucleotide', 'explained_by', 'varicella_zoster', 'late_infantile', 'it_has', 'muscle_biopsy', 'chronic_pulmonary', 'primary_tumor', 'reasons_for', 'year_period', 'basement_membrane', 'two_groups', 'up_to', 'indicating_that', 'were_seen', 'poor_prognosis', 'that_there', 'common_cause', 'to_distinguish', 'depends_on', 'criteria_for', 'lymph_nodes', 'experimental_model', 'experimental_arthritis', 'results_indicate', 'most_cases', 'with_graves', 'virus_ibdv', 'cerebro_vascular', 'metabolic_bone', 'lymphoid_cells', 'all_patients', 'nephrotic_syndrome', 'were_used', 'acth_levels', 'large_bowel', 'bovine_viral', 'experimental_infection', 'an_overall', 'characterised_by', 'antibody_responses', 'an_outbreak', 'not_always', 'left_main', 'low_level', 'spleen_cells', 'which_are', 'this_article', 'significantly_greater', 'addison_disease', 'an_immunological', 'factors_for', 'old_woman', 'digestive_tract', 'resistant_to', 'as_an', 'has_become', 'was_confirmed', 'is_often', 'cyclic_adenosine', 'prepared_from', 'significant_differences', 'sural_nerve', 'nmol_min', 'serum_samples', 'neutralizing_antibodies', 'at_degrees', 'factor_xiii', 'those_who', 'leading_to', 'brain_stem', 'stem_cell', 'artery_occlusion', 'development_of', 'red_cell', 'cigarette_smoking', 'applied_to', 'polycystic_kidney', 'significantly_increased', 'old_chicks', 'revealed_that', 'may_also', 'rheumatoid_factor', 'over_period', 'drug_induced', 'weeks_after', 'early_diagnosis', 'family_history', 'months_after', 'diabetic_patients', 'any_significant', 'are_considered', 'existence_of', 'against_marek', 'year_follow', 'significantly_higher', 'alpha_hydroxyvitamin', 'trophoblastic_disease', 'disease_states', 'changes_in', 'is_usually', 'examined_by', 'may_provide', 'differential_diagnosis', 'first_report', 'stone_disease', 'autosomal_dominant', 'ventricular_extrasystoles', 'infectious_mononucleosis', 'appearance_of', 'breast_cancer', 'aleutian_disease', 'tended_to', 'infantile_form', 'as_cause', 'who_died', 'high_titers', 'no_detectable', 'findings_indicate', 'ace_activity', 'tailed_deer', 'significantly_elevated', 'duodenal_mucosa', 'as_well', 'human_chorionic', 'per_cent', 'these_findings', 'drawn_to', 'fatty_acid', 'multiple_sclerosis', 'as_compared', 'result_from', 'lymphocytotoxic_antibodies', 'cystic_fibrosis', 'skeletal_muscle', 'manifested_by', 'pituitary_gland', 'used_to', 'response_rate', 'had_received', 'low_levels', 'had_normal', 'drug_therapy', 'child_with', 'play_an', 'indications_for', 'contact_with', 'periodontal_disease', 'might_be', 'can_be', 'bile_acids', 'bhk_cells', 'genetically_determined', 'specimens_from', 'findings_suggest', 'mixed_connective', 'inflammatory_periodontal', 'identical_to', 'virus_dna', 'probably_due', 'rheumatic_heart', 'plasma_acth', 'cushing_disease', 'inoculated_into', 'chick_embryos', 'these_results', 'mitral_valve', 'herpes_simplex', 'serve_as', 'determine_if', 'inactivated_foot', 'with_increasing', 'natural_course', 'showed_significant', 'contrast_to', 'highly_significant', 'lipoprotein_cholesterol', 'small_intestine', 'vaccinal_immunity', 'found_to', 'rheumatic_fever', 'sexually_transmitted', 'synovial_membrane', 'it_is', 'stage_iii', 'density_lipoproteins', 'twenty_seven', 'parkinson_disease', 'nuclear_antigen', 'middle_aged', 'la_tourette', 'pathological_changes', 'blood_pressure', 'or_absence', 'does_not', 'amniotic_fluid', 'fine_structure', 'plays_an', 'public_health', 'ulcerative_colitis', 'invasive_carcinoma', 'plasma_cyclic', 'infected_chickens', 'us_to', 'storage_disease', 'combination_chemotherapy', 'acute_stage', 'advanced_stages', 'is_considered', 'hepatocellular_carcinoma', 'serum_angiotensin', 'play_role', 'serum_alpha', 'compared_with', 'four_patients', 'greater_than', 'it_appears', 'surgical_intervention', 'later_stages', 'seen_in', 'we_studied', 'chronic_liver', 'lipid_storage', 'were_noted', 'well_known', 'stage_renal', 'diabetes_mellitus', 'be_used', 'complement_fixing', 'blood_gases', 'compatible_with', 'ceroid_lipofuscinosis', 'kidney_cells', 'biliary_tract', 'diverticular_disease', 'determination_of', 'to_assess', 'treated_with', 'blood_viscosity', 'affective_disorder', 'untreated_graves', 'relative_risk', 'in_conjunction', 'sella_turcica', 'chronic_lymphocytic', 'more_frequently', 'non_hodgkin', 'no_signs', 'obtained_by', 'ischaemic_heart', 'possible_mechanisms', 'ankylosing_spondylitis', 'serum_cholesterol', 'infectious_bronchitis', 'are_not', 'advanced_stage', 'this_technique', 'adrenal_cortex', 'beneficial_effect', 'physical_activity', 'although_there', 'auto_immune', 'marker_for', 'most_common', 'psychiatric_disorder', 'total_serum', 'cortisol_levels', 'lung_cancer', 'smooth_muscle', 'serum_bile', 'diagnosed_by', 'hodgkin_disease', 'marrow_involvement', 'obstructive_lung', 'double_stranded', 'was_diagnosed', 'leigh_disease', 'obstructive_pulmonary', 'arterial_blood', 'an_inactivated', 'patients_whose', 'author_transl', 'mediated_by', 'identified_as', 'electron_microscope', 'is_drawn', 'are_reported', 'was_evaluated', 'are_reviewed', 'venous_thrombosis', 'renal_insufficiency', 'were_obtained', 'kyasanur_forest', 'lymphoid_leukosis', 'associated_antigens', 'healthy_subjects', 'method_for', 'who_were', 'proficiency_testing', 'been_proposed', 'homozygous_sickle', 'mental_retardation', 'be_considered', 'released_from', 'prognostic_factors', 'molecular_weight', 'animal_model', 'to_define', 'von_willebrand', 'five_cases', 'ch_ch', 'acute_lymphoblastic', 'md_virus', 'virus_adv', 'confined_to', 'almost_all', 'coxsackie_viruses', 'beta_microglobulin', 'alzheimer_disease', 'chronic_renal', 'this_complication', 'stranded_rna', 'such_as', 'an_increased', 'natural_history', 'chickens_inoculated', 'important_role', 'serum_proteins', 'which_has', 'immune_response', 'experimental_allergic', 'fluorescent_antibody', 'acute_leukemia', 'health_education', 'gaucher_disease', 'ranged_from', 'lipoprotein_abnormalities', 'fact_that', 'they_may', 'hashimoto_thyroiditis', 'cerebrovascular_disease', 'suggests_that', 'need_for', 'significant_reduction', 'weight_loss', 'after_infection', 'also_detected', 'cranial_nerve', 'cytomegalic_inclusion', 'program_for', 'neurological_manifestations', 'cardiovascular_disease', 'viral_infection', 'twenty_four', 'affected_by', 'health_service', 'were_found', 'ventricular_function', 'observations_suggest', 'may_prevent', 'caudate_nucleus', 'acute_myeloid', 'is_not', 'normal_subjects', 'interaction_between', 'diagnostic_criteria', 'lymphocytes_from', 'artery_disease', 'present_study', 'coronary_heart', 'unknown_etiology', 'pelizaeus_merzbacher', 'graves_disease', 'mdv_kekava', 'indicates_that', 'been_studied', 'type_ii', 'high_frequency', 'clostridium_perfringens', 'was_performed', 'it_was', 'similar_to', 'are_alive', 'acute_phase', 'rosette_forming', 'in_vitro', 'is_described', 'cellular_immunity', 'data_indicate', 'prognostic_significance', 'inoculated_with', 'associated_with', 'which_had', 'disease_fmd', 'beta_adrenergic', 'no_apparent', 'nelson_syndrome', 'further_evidence', 'to_differentiate', 'difficult_to', 'into_account', 'with_regard', 'long_standing', 'five_patients', 'to_diagnose', 'results_obtained', 'increased_susceptibility', 'is_common', 'at_rest', 'patients_with', 'blood_donors', 'were_compared', 'was_significantly', 'metabolic_disorder', 'may_be', 'not_been', 'partial_remission', 'had_been', 'isolated_from', 'three_vessel', 'cannot_be', 'poliomyelitis_like', 'were_studied', 'afp_levels', 'center_for', 'neoplastic_disease', 'to_determine', 'were_treated', 'medical_management', 'sex_matched', 'nude_mice', 'an_important', 'duodenal_ulcer', 'not_necessarily', 'presence_of', 'may_result', 'beta_msh', 'would_be', 'were_evaluated', 'electron_microscopic', 'peripheral_blood', 'islet_cell', 'one_hundred', 'not_only', 'infectious_bursal', 'by_means', 'were_recorded', 'been_used', 'replacement_therapy', 'amyotrophic_lateral', 'depending_on', 'broad_beta', 'responsiveness_to', 'determine_whether', 'lysosomal_storage', 'hirschsprung_disease', 'recent_developments', 'kekava_strain', 'glucose_phosphatase', 'reference_to', 'clinical_course', 'in_contrast', 'virus_infection', 'tangier_disease', 'significantly_lower', 'more_accurate', 'hypertensive_disease', 'course_of', 'marrow_transplantation', 'first_year', 'ldl_cholesterol', 'clinical_presentation', 'patients_suffering', 'who_received', 'lymph_node', 'graft_versus', 'children_with', 'no_evidence', 'been_recognized', 'new_zealand', 'plasma_concentrations', 'paget_disease', 'difference_between', 'ng_ml', 'function_tests', 'electron_spin', 'showed_no', 'good_correlation', 'we_conclude', 'hand_foot', 'low_density', 'suffered_from', 'are_described', 'basic_protein', 'general_population', 'perianal_paget', 'according_to', 'false_negative', 'hypothesis_that', 'after_surgery', 'was_found', 'an_unusual', 'normal_individuals', 'autoimmune_thyroid', 'alpha_galactosidase', 'hyaline_membrane', 'hbv_infection', 'demonstrate_that', 'peptic_ulcer', 'was_determined', 'increased_risk', 'muscular_dystrophy', 'turkey_poults', 'this_paper', 'clinical_manifestations', 'radioreceptor_assay', 'swine_vesicular', 'five_years', 'advanced_hodgkin', 'gm_gangliosidosis', 'consecutive_patients', 'm_ni', 'mouth_disease', 'depend_on', 'was_shown', 'two_years', 'there_were', 'attending_venereal', 'positive_correlation', 'normal_controls', 'incubation_period', 'coagulation_disorder', 'acth_secretion', 'important_factor', 'survival_rate', 'incidence_of', 'in_whom', 'more_than', 'evidence_for', 'coeliac_disease', 'metastatic_disease', 'group_ii', 'chagas_disease', 'twenty_five', 'could_be', 'were_measured', 'chick_embryo', 'chronic_active', 'susceptibility_to', 'due_to', 'total_body', 'are_involved', 'not_previously', 'demonstrated_that', 'were_inoculated', 'this_finding', 'an_analysis', 'primary_biliary', 'renal_transplant', 'mortality_from', 'myeloid_leukaemia', 'short_term', 'myelocytic_leukemia', 'congenital_heart', 'renal_failure', 'taken_into', 'correlation_could', 'decrease_in', 'is_necessary', 'by_electron', 'clinically_apparent', 'into_consideration', 'angiotensin_converting', 'cross_reactions', 'at_different', 'were_isolated', 'suitable_for', 'microscopic_examination', 'recovery_from', 'responsible_for', 'or_equal', 'virus_fmdv', 'unresponsive_to', 'majority_of', 'be_applied', 'there_are', 'benign_prostatic', 'association_with', 'immune_complexes', 'autopsy_case', 'spontaneously_occurring', 'personality_disorder', 'alpha_fetoprotein', 'and_adolescents', 'search_for', 'migration_inhibition', 'early_stage', 'admitted_to', 'failed_to', 'but_also', 'blood_lipids', 'mental_disorder', 'negative_correlation', 'to_detect', 'vena_cava', 'alcoholic_liver', 'was_carried', 'ultrastructural_study', 'several_years', 'vesicular_stomatitis', 'carbon_monoxide', 'month_period', 'out_on', 'may_contribute', 'at_risk', 'basal_ganglia', 'high_incidence', 'motor_neuron', 'in_spite', 'drug_treatment', 'be_valuable', 'has_been', 'only_one', 'report_on', 'cerebrospinal_fluid', 'statistically_significant', 'suffering_from', 'viii_related', 'more_frequent', 'we_believe', 'antithyroid_drug', 'belonging_to', 'coronary_arteriography', 'to_identify', 'myasthenia_gravis', 'accounted_for', 'upper_respiratory', 'hodgkin_lymphoma', 'nasopharyngeal_carcinoma', 'adjuvant_chemotherapy', 'great_arteries', 'was_examined', 'granulomatous_disease', 'heart_failure', 'significantly_less', 'giant_axonal', 'health_care', 'thought_to', 'secondary_to', 'preliminary_results', 'divided_into', 'emphasis_on', 'antibiotic_therapy', 'whether_there', 'was_observed', 'initial_stage', 'extramammary_paget', 'cytopathic_effect', 'chorionic_gonadotropin', 'respiratory_tract', 'various_forms', 'increased_frequency', 'infected_cells', 'arterial_hypertension', 'patient_with', 'serum_calcium', 'to_investigate', 'adult_coeliac', 'an_additional', 'were_identified', 'related_to', 'blood_lymphocytes', 'antibodies_against', 'followed_up', 'experimentally_infected', 'unlikely_to', 'presenting_as', 'was_no', 'beh_et', 'years_later', 'avian_leukosis', 'celiac_disease', 'myelogenous_leukemia', 'breast_carcinoma', 'chronic_obstructive', 'to_inhibit', 'specific_antibodies', 'hodgkin_lymphomas', 'renal_function', 'detected_by', 'been_measured', 'longer_than', 'much_more', 'like_particles', 'healthy_individuals', 'previous_reports', 'antibody_dependent', 'optic_nerve', 'metabolic_disorders', 'was_also', 'serological_studies', 'in_man', 'be_responsible', 'more_effective', 'may_prove', 'performed_on', 'inflammatory_bowel', 'are_presented', 'was_present', 'were_excluded', 'have_been', 'without_any', 'recent_years', 'motor_neurone', 'clinical_features', 'virus_induced', 'prevalence_of', 'who_have', 'the_majority', 'winter_vomiting', 'an_inverse', 'plasma_lipids', 'be_effective', 'relating_to', 'were_performed', 'benign_breast', 'various_types', 'remained_free', 'likely_to', 'autoimmune_thyroiditis', 'believed_to', 'lipoprotein_deficiency', 'hong_kong', 'carried_out', 'conclude_that', 'significant_difference', 'as_part', 'lipoprotein_lipase', 'proved_to', 'was_measured', 'is_presented', 'line_msb', 'seems_to', 'skin_lesions', 'transcobalamin_ii', 'better_understanding', 'acid_phosphatase', 'more_common', 'biliary_cirrhosis', 'judged_by', 'is_recommended', 'prenatal_diagnosis', 'been_treated', 'induced_by', 'but_it', 'one_hand', 'indicate_that', 'an_attempt', 'pituitary_irradiation', 'can_occur', 'non_invasive', 'is_stressed', 'ability_to', 'oat_cell', 'week_old', 'found_between', 'was_detected', 'clinical_symptoms', 'results_suggest', 'mucosal_disease', 'early_stages', 'diagnostic_value', 'dental_caries', 'attributed_to', 'rapidly_progressive', 'antibody_titres', 'an_initial', 'all_three', 'biopsy_specimens', 'elevated_serum', 'age_groups', 'influenza_viruses', 'varying_degrees', 'differences_between', 'basedow_disease', 'enzyme_activity', 'type_iia', 'nursing_care', 'four_months', 'revealed_no', 'long_term', 'lead_to', 'further_studies', 'virus_neutralization', 'system_cns', 'aged_years', 'lecithin_cholesterol', 'crohn_disease', 'type_iii', 'correlated_with', 'gamma_heavy', 'stage_ii', 'hydroxylase_activity', 'basis_for', 'converting_enzyme', 'each_other', 'against_aujeszky', 'at_least', 'epizootic_hemorrhagic', 'pre_existing', 'clinical_picture', 'ascorbic_acid', 'well_documented', 'complete_remission', 'plasma_protein', 'crystal_deposition', 'virus_ebv', 'to_prevent', 'lupus_erythematosus', 'agar_gel', 'prolyl_hydroxylase', 'nervous_system', 'with_respect', 'correlated_well', 'prospective_study', 'it_seems', 'an_example', 'those_seen', 'central_core', 'tendency_to', 'advanced_pulmonary', 'special_reference', 'bile_acid', 'obtained_from', 'resistance_to', 'sj_gren', 'examined_for', 'the_same', 'influenza_virus', 'attempt_to', 'immunological_studies', 'at_weeks', 'alpha_lipoprotein', 'so_called', 'cyclic_gmp', 'hla_typing', 'may_lead', 'bronchogenic_carcinoma', 'it_would', 'should_be', 'recovered_from', 'erythrocyte_membranes', 'pelvic_inflammatory', 'responses_to', 'conduction_velocity', 'viral_diarrhea', 'may_represent', 'surface_antigen', 'can_cause', 'higher_than', 'correspond_to', 'not_appear', 'lipoprotein_hdl', 'attention_is', 'was_isolated', 'progressive_aleutian', 'so_far', 'pulmonary_vascular', 'leads_to', 'responded_to', 'von_recklinghausen', 'stomatitis_virus', 'coronary_artery', 'hla_antigens', 'myocardial_infarction', 'new_jersey', 'be_due'}"
     ]
    },
    {
     "name": "stdout",
     "output_type": "stream",
     "text": [
      "\n"
     ]
    }
   ],
   "source": [
    "# review phrase matches\n",
    "phrases = []\n",
    "for terms in sklearn_phrases.transform(matched_sents):\n",
    "    for term in terms:\n",
    "        if term.count('_') >= 1:\n",
    "            phrases.append(term)\n",
    "\n",
    "print(set(phrases))"
   ]
  },
  {
   "cell_type": "code",
   "execution_count": 62,
   "metadata": {},
   "outputs": [],
   "source": [
    "# create a list of stop words\n",
    "from spacy.lang.en.stop_words import STOP_WORDS\n",
    "common_terms = list(STOP_WORDS)"
   ]
  },
  {
   "cell_type": "markdown",
   "metadata": {},
   "source": [
    "**common_terms:** optional list of “stop words” that won’t affect frequency count of expressions containing them.\n",
    "- The common_terms parameter add a way to give special treatment to common terms (aka stop words) such that their presence between two words won’t prevent bigram detection. It allows to detect expressions like “bank of america” or “eye of the beholder”.\n"
   ]
  },
  {
   "cell_type": "markdown",
   "metadata": {},
   "source": [
    "##### Gensim API\n",
    "A more complex API, though it is faster and has better integration with other gensim components (e.g. Phraser)"
   ]
  },
  {
   "cell_type": "code",
   "execution_count": 63,
   "metadata": {},
   "outputs": [],
   "source": [
    "from gensim.models.phrases import Phrases, Phraser"
   ]
  },
  {
   "cell_type": "code",
   "execution_count": 64,
   "metadata": {},
   "outputs": [
    {
     "data": {
      "text/plain": [
       "<gensim.models.phrases.Phrases at 0x1dd0526f780>"
      ]
     },
     "execution_count": 64,
     "metadata": {},
     "output_type": "execute_result"
    }
   ],
   "source": [
    "phrases = Phrases(\n",
    "      matched_sents\n",
    "    , common_terms=common_terms\n",
    "    , min_count=5\n",
    "    , threshold=5\n",
    "    , scoring='default'\n",
    ")\n",
    "\n",
    "phrases"
   ]
  },
  {
   "cell_type": "markdown",
   "metadata": {},
   "source": [
    "### Phrases Params\n",
    "\n",
    "- **scoring:** specifies how potential phrases are scored for comparison to the threshold setting. scoring can be set with either a string that refers to a built-in scoring function, or with a function with the expected parameter names. Two built-in scoring functions are available by setting scoring to a string:\n",
    "\n",
    "    - ‘default’: from “Efficient Estimaton of Word Representations in Vector Space” by Mikolov, et. al.: \n",
    "    \n",
    "$$\\frac{count(AB) - count_{min}}{count(A) * count(B)} * N > threshold$$\n",
    "    \n",
    "\n",
    "    - where N is the total vocabulary size.\n",
    "    - Thus, it is easier to exceed the threshold when the two words occur together often or when the two words are rare (i.e. small product)"
   ]
  },
  {
   "cell_type": "code",
   "execution_count": 65,
   "metadata": {},
   "outputs": [
    {
     "data": {
      "text/plain": [
       "<gensim.models.phrases.Phraser at 0x1dd0528cc88>"
      ]
     },
     "execution_count": 65,
     "metadata": {},
     "output_type": "execute_result"
    }
   ],
   "source": [
    "bigram = Phraser(phrases)\n",
    "\n",
    "bigram"
   ]
  },
  {
   "cell_type": "markdown",
   "metadata": {},
   "source": [
    "The phrases object still contains all the source text in memory. A gensim Phraser will remove this extra data to become smaller and somewhat faster than using the full Phrases model. To determine what data to remove, the Phraser ues the  results of the source model’s min_count, threshold, and scoring settings. (You can tamper with those & create a new Phraser to try other values.)\n",
    "\n",
    "SOURCE: https://radimrehurek.com/gensim/models/phrases.html"
   ]
  },
  {
   "cell_type": "code",
   "execution_count": 66,
   "metadata": {},
   "outputs": [],
   "source": [
    "def print_phrases(phraser, text_stream, num_underscores=2):\n",
    "    \"\"\" identify phrases from a text stream by searching for terms that\n",
    "        are separated by underscores and include at least num_underscores\n",
    "    \"\"\"\n",
    "    \n",
    "    phrases = []\n",
    "    for terms in phraser[text_stream]:\n",
    "        for term in terms:\n",
    "            if term.count('_') >= num_underscores:\n",
    "                phrases.append(term)\n",
    "    print(set(phrases))"
   ]
  },
  {
   "cell_type": "code",
   "execution_count": 67,
   "metadata": {},
   "outputs": [
    {
     "name": "stdout",
     "output_type": "stream",
     "text": [
      "{'caries_and_periodontal', 'patients_with_suspected', 'review_of_the_literature', 'risk_of_coronary', 'clinical_and_laboratory', 'transposition_of_the_great', 'children_and_adolescents', 'children_with_congenital', 'alpha_and_beta', 'role_in_the_pathogenesis', 'signs_and_symptoms', 'weeks_of_age', 'factor_in_the_pathogenesis', 'carcinoma_of_the_lung', 'early_in_the_course', 'period_of_time', 'patients_with_graves', 'england_and_wales', 'studies_were_carried', 'carcinoma_in_situ', 'center_for_disease', 'incidence_of_coronary', 'despite_the_fact', 'risk_of_developing', 'clinical_and_pathological', 'plays_an_important', 'herpesvirus_of_turkeys', 'follow_up_period', 'outbreaks_of_respiratory', 'play_an_important', 'days_after_infection', 'greater_than_or_equal', 'infected_with_marek', 'etiology_and_pathogenesis', 'disease_of_the_vulva', 'diseases_with_special', 'patients_with_advanced', 'report_of_case', 'months_of_age', 'nursing_of_patient', 'taken_into_account', 'years_of_age', 'presence_or_absence', 'correlation_was_found', 'treatment_of_choice', 'age_of_onset', 'men_and_women', 'case_of_whipple', 'foot_and_mouth', 'cause_and_effect', 'patients_with_hodgkin', 'light_and_electron', 'patients_with_limited', 'iii_and_iv', 'patient_with_whipple', 'patients_with_ulcerative', 'individuals_with_recurrent', 'lipids_and_lipoproteins', 'osteoclasts_in_paget', 'months_after_the_onset', 'virus_of_aujeszky', 'symposium_on_pathophysiology', 'herpesvirus_of_turkey', 'patients_with_cushing', 'radiotherapy_and_chemotherapy', 'colitis_and_crohn', 'prevention_of_coronary', 'patients_with_crohn', 'patients_with_chronic', 'strains_of_foot', 'morbidity_and_mortality', 'described_in_the_literature', 'involved_in_the_pathogenesis', 'emphasis_on_gallstone', 'thyroidectomy_for_graves', 'attention_is_drawn', 'history_of_breast', 'mode_of_inheritance', 'head_and_neck', 'support_the_hypothesis', 'lymphocytes_from_patients', 'bursa_of_fabricius', 'discussed_in_relation', 'support_the_concept', 'age_and_sex'}\n"
     ]
    }
   ],
   "source": [
    "print_phrases(bigram, matched_sents)"
   ]
  },
  {
   "cell_type": "markdown",
   "metadata": {},
   "source": [
    "### Tri-gram phrase model\n",
    "\n",
    "We can place the text from the first phrase model into another Phrases object to create n-term phrase models. We can repear this process multiple times."
   ]
  },
  {
   "cell_type": "code",
   "execution_count": 68,
   "metadata": {},
   "outputs": [
    {
     "name": "stdout",
     "output_type": "stream",
     "text": [
      "{'lung_cancer_and_chronic_obstructive', 'age_of_the_patient', 'involvement_of_the_leptomeninges', 'particles_of_foot_and_mouth', 'reported_in_the_present', 'infected_cells_author_transl', 'patients_with_lung_cancer', 'virus_was_not_detected', 'virus_in_cell_culture', 'prenatal_diagnosis_of_tay_sachs', 'stage_iii_and_iv', 'clinical_and_pathological_features', 'evaluation_of_the_effect', 'exposure_to_infectious_bursal', 'carcinoma_of_the_breast', 'years_after_the_initial', 'suggest_that_the_natural_history', 'myocardial_infarction_is_probably', 'management_of_herpetic_eye', 'complex_in_paget_disease', 'hla_antigens_in_patients', 'good_correlation_between_the_activity', 'mortality_from_all_causes', 'cases_of_poliomyelitis_like', 'vivo_and_in_vitro', 'metastatic_disease_at_the_time', 'rise_to_the_suspicion', 'vaccine_against_aujeszky_disease', 'disease_of_the_nipple', 'involved_in_the_pathogenesis_of_this_disease', 'histochemical_and_ultrastructural_study', 'effect_of_carbon_monoxide', 'patients_with_chronic_pulmonary', 'case_report_of_patient', 'deaths_from_ischaemic_heart', 'group_of_patients_suffering', 'contributing_to_the_development', 'patients_with_nasopharyngeal_carcinoma', 'appeared_to_be_associated', 'sera_from_patients_with_hodgkin', 'genetic_and_environmental_factors', 'predictor_of_hyaline_membrane', 'crohn_disease_author_transl', 'vaccination_against_marek_disease', 'progress_of_the_disease', 'peripheral_blood_lymphocytes_from_patients', 'involvement_in_hodgkin_disease', 'liver_disease_in_renal_transplant', 'dental_caries_and_periodontal_disease', 'persons_with_ischemic_heart', 'type_of_parkinson_disease', 'antibody_response_of_tropical', 'cells_of_marek_disease', 'increased_risk_of_developing', 'pigs_from_to_kg', 'found_in_graves_disease', 'normal_subjects_and_patients_with_chronic', 'plays_an_important_role', 'diet_and_coronary_heart', 'lymphocytes_from_patients_with_chagas_disease', 'attenuated_virus_of_aujeszky', 'occurred_in_the_context', 'carcinoma_of_the_kidney', 'detected_in_the_sera', 'feature_of_the_disease', 'associated_with_graves_disease', 'carcinoma_of_the_cervix', 'indirect_complement_fixation_test', 'aujeszky_disease_in_goats', 'disease_report_of_case', 'originating_from_marek_disease', 'groups_on_the_basis', 'considered_in_differential_diagnosis', 'males_to_years_of_age', 'isolation_of_foot_and_mouth', 'alpha_fetoprotein_in_liver_disease', 'thyroidectomy_for_graves_disease', 'degrees_in_the_presence', 'patients_with_chronic_lung', 'virus_in_cell_cultures', 'storage_disease_with_cardiomegaly', 'acute_phase_of_the_disease', 'stages_of_the_disease', 'whipple_disease_case_report', 'severity_of_the_liver_disease', 'carcinoma_of_the_lung', 'patients_with_hypertensive_disease', 'group_of_patients_with_chronic', 'early_stages_of_disease', 'metabolic_defect_in_tangier_disease', 'surgical_treatment_of_crohn_disease', 'depending_on_the_stage', 'considered_in_the_differential_diagnosis', 'light_and_electron_microscopic', 'clinical_manifestations_of_the_disease', 'outbreaks_of_respiratory_disease', 'model_for_the_study', 'surgery_for_graves_disease', 'patients_with_coeliac_disease', 'adenocarcinoma_of_the_rectum', 'disease_in_the_ivory', 'hemizygotes_with_fabry_disease', 'lymphocytes_from_patients_with_graves_disease', 'strains_of_aujeszky_disease', 'correlate_with_the_severity', 'form_of_crohn_disease', 'virus_infection_in_mink', 'evidence_of_chronic_liver', 'prenatal_diagnosis_of_genetic', 'cases_of_whipple_disease', 'treatment_of_chronic_obstructive', 'fluids_in_the_anterior', 'subacute_necrotizing_leigh_disease', 'splenectomy_in_hodgkin_disease', 'compared_with_those_obtained', 'type_of_niemann_pick', 'children_with_hodgkin_disease', 'children_suffering_of_cerebral', 'appears_to_be_useful', 'occurrence_of_coronary_heart', 'personality_of_the_patient', 'virus_and_herpesvirus_of_turkey', 'patients_with_untreated_coeliac', 'patients_with_advanced_malignant', 'disease_its_cause_and_effect', 'reported_in_this_paper', 'diagnosis_should_be_considered', 'tumor_associated_surface_antigen', 'severity_of_liver_disease', 'correlated_with_the_activity', 'immunity_to_marek_disease', 'serum_levels_were_determined', 'aspects_of_crohn_disease', 'patient_with_graves_disease', 'subjects_with_chronic_liver', 'cases_of_tangier_disease', 'treatment_of_ischemic_heart', 'diagnosis_of_liver_disease', 'associated_with_the_presence', 'strains_of_epizootic_hemorrhagic', 'patients_with_paget_disease', 'high_density_lipoprotein_cholesterol', 'patients_with_coronary_artery', 'soon_as_the_diagnosis', 'majority_of_these_patients', 'serum_and_cerebrospinal_fluid', 'half_of_the_patients', 'strains_of_infectious_bursal', 'individuals_with_recurrent_disease', 'connected_with_the_disease', 'patients_with_myocardial_infarction', 'progression_of_liver_disease', 'patients_with_beh_et', 'screening_test_to_detect', 'mucosal_disease_virus_infection', 'significantly_higher_in_the_patients', 'insulin_dependent_diabetes_mellitus', 'patients_with_rheumatoid_arthritis', 'earlier_with_herpesvirus_of_turkeys', 'subtyping_of_foot_and_mouth', 'early_stages_of_the_disease', 'important_factor_in_the_pathogenesis', 'studied_in_healthy_individuals', 'granulomata_in_the_mucosa', 'isolation_of_the_virus', 'addison_disease_and_diabetes_mellitus', 'strains_of_legionnaires_disease', 'transmission_of_aleutian_disease', 'herpesvirus_of_turkeys_hvt', 'described_in_this_paper', 'similar_to_those_seen', 'extension_of_the_disease', 'diagnosed_in_most_cases', 'similar_in_both_groups', 'onset_of_chronic_obstructive', 'serum_levels_of_complement', 'patients_with_advanced_disease', 'clinical_picture_of_the_disease', 'extent_of_the_disease', 'patient_with_tangier_disease', 'observed_in_this_disorder', 'differences_in_the_prevalence', 'episode_of_the_disease', 'sera_of_patients_with_graves', 'disease_of_the_stomach', 'effect_of_infectious_bursal', 'newcastle_disease_virus_strains', 'progression_of_pulmonary_vascular', 'symptoms_of_cushing_disease', 'disease_is_an_infrequent', 'rnase_in_the_presence', 'vaccinated_with_foot_and_mouth', 'previously_treated_with_surgery', 'low_levels_of_high_density', 'patients_with_acute_leukemia', 'factor_in_the_pathogenesis_of_thromboembolic', 'antibodies_to_epstein_barr', 'screening_test_for_coeliac_disease', 'levamisole_in_the_treatment', 'form_of_the_disorder', 'significantly_lower_than_normal', 'studies_have_been_performed', 'months_of_age_at_diagnosis', 'cases_in_the_literature', 'patients_with_whipple_disease', 'patients_with_breast_cancer', 'risk_for_cardiovascular_disease', 'small_cell_lung_cancer', 'depending_on_the_underlying', 'related_to_the_duration', 'led_to_the_diagnosis', 'proteins_of_infectious_bursal', 'pathogenesis_of_marek_disease', 'igg_of_patients_with_graves', 'hexosaminidase_in_tay_sachs', 'analysis_of_the_data', 'low_density_lipoprotein_cholesterol', 'type_iii_broad_beta', 'weeks_after_the_onset', 'mechanisms_of_the_disorder', 'new_jersey_and_alberta', 'clinical_symptoms_and_biochemical', 'cultivation_of_the_foot_and_mouth', 'vaccine_in_patients_with_chronic', 'observations_on_outbreaks_of_respiratory', 'vascular_disease_in_diabetes_mellitus', 'suppressed_in_patients_with_cushing', 'recurrent_or_metastatic_disease', 'typing_of_foot_and_mouth', 'paget_disease_of_the_male', 'aspects_of_the_management', 'aged_from_to_years', 'incidence_of_degenerative_joint', 'hodgkin_disease_and_other_malignancies', 'gingival_or_periodontal_disease', 'serum_angiotensin_converting_enzyme', 'varied_with_the_origin', 'light_of_the_recent', 'risk_of_coronary_heart_disease', 'late_in_the_course', 'subjects_with_coronary_heart', 'cells_in_the_peripheral_blood', 'value_in_the_assessment', 'development_of_ischemic_heart', 'patients_with_ulcerative_colitis_and_crohn', 'vp_of_foot_and_mouth', 'agent_of_legionnaires_disease', 'vaccination_against_newcastle_disease', 'virus_of_aujeszky_disease', 'excluded_from_the_study', 'patients_with_addison_disease', 'types_of_foot_and_mouth', 'discussed_on_the_basis', 'study_of_the_pathogenesis', 'patient_with_hand_foot', 'investigation_of_patients_with_suspected', 'subtypes_of_foot_and_mouth', 'report_of_two_cases', 'cancer_of_the_cervix', 'chronic_pulmonary_heart_disease', 'release_of_foot_and_mouth', 'early_stage_of_the_disease', 'correlated_with_the_severity', 'value_in_the_diagnosis', 'tract_in_foot_and_mouth', 'mucosal_disease_virus_mdv', 'symptoms_of_liver_disease', 'elevated_plasma_acth_levels', 'stage_ii_or_iii', 'cases_of_hodgkin_disease', 'detection_of_periodontal_disease', 'patient_with_hodgkin_disease', 'stage_of_the_disease', 'epidemic_of_hand_foot', 'severity_of_coronary_artery', 'adenosine_monophosphate_cyclic_amp', 'members_of_the_family', 'etiology_of_liver_disease', 'diagnosis_of_hodgkin_disease', 'diabetes_and_graves_disease', 'removed_from_the_study', 'cure_of_cushing_disease', 'patients_with_hodgkin_disease', 'disorder_have_been_reported', 'igg_and_igm_antibodies', 'turkey_herpesvirus_and_marek_disease', 'acute_stage_of_the_disease', 'use_in_the_assessment', 'patients_with_chronic_ischemic_heart', 'seen_in_normal_subjects', 'parameter_of_the_phytanic_acid', 'patient_with_cardiovascular_disease', 'basedow_disease_author_transl', 'whipple_disease_are_briefly', 'found_to_have_raised_serum', 'risk_factors_for_the_development', 'patients_with_mixed_connective', 'foot_and_mouth_disease', 'clinics_in_england_and_wales', 'examined_for_the_presence', 'tbii_in_patients_with_graves', 'cholesterol_and_increased_risk', 'virus_and_epizootic_hemorrhagic', 'patients_in_the_acute_stage', 'marek_disease_tumor_cells', 'free_for_over_years', 'months_after_the_onset_of_symptoms', 'period_of_six_years', 'disease_of_the_cornea', 'platelets_of_two_patients', 'positive_for_rheumatoid_factor', 'drugs_to_be_tested', 'patients_with_itsenko_cushing', 'irradiation_and_combination_chemotherapy', 'follow_up_period_of_months', 'radioreceptor_assay_of_tsh', 'disease_in_guinea_pig', 'interferon_induction_of_avian', 'transplants_by_the_nononcogenic', 'patients_with_non_hodgkin', 'liver_disease_were_studied', 'previously_treated_hodgkin_disease', 'advanced_pulmonary_vascular_disease', 'patients_with_valvular_heart', 'low_level_of_high_density', 'mg_kg_body_weight', 'related_to_the_activity', 'normal_and_disease_states', 'testing_in_the_patient', 'erythrocyte_membranes_from_patients', 'care_of_the_patient', 'patient_with_fabry_disease', 'management_of_cushing_disease', 'diagnosis_of_lysosomal_storage', 'quantitation_of_the_antigen', 'marek_disease_lymphoblastoid_cell', 'clinical_features_of_the_disease', 'reported_in_the_literature', 'clinical_and_immune_responses', 'normal_in_alcoholic_liver', 'lymphoblastoid_cell_line_msb', 'whipple_disease_author_transl', 'disease_in_the_western', 'patients_with_glycogen_storage', 'marek_disease_and_turkey', 'leukemias_and_hodgkin_disease', 'sera_from_patients_with_graves', 'negative_correlation_with_coronary_heart', 'case_of_herpes_zoster', 'carcinoma_of_the_apocrine', 'expression_of_marek_disease', 'exacerbation_of_the_disease', 'level_was_significantly_lower', 'lipoprotein_deficiency_tangier_disease', 'patients_with_liver_disease', 'remain_alive_and_remain_alive', 'virological_and_serological_studies', 'patients_with_chronic_granulomatous_disease', 'incidence_of_ischemic_heart', 'patients_with_chronic_ischaemic_heart', 'phase_of_the_disease', 'detection_of_aujeszky_disease', 'occlusion_and_periodontal_disease', 'patients_with_acute_myocardial', 'months_to_nine_years', 'production_of_foot_and_mouth', 'death_from_cardiovascular_disease', 'long_term_antibiotic_therapy', 'period_of_the_disease', 'associated_with_the_severity', 'persistent_infection_with_hepatitis_virus', 'metastatic_disease_is_described', 'involved_in_the_pathogenesis_of_the_disease', 'cases_of_graves_disease', 'assessed_for_the_presence', 'treatment_of_peptic_ulcer', 'diagnosis_of_cystic_fibrosis', 'lymphocytes_from_patients_with_malignant', 'patients_with_cushing_disease', 'proved_to_be_highly', 'day_old_chickens_infected', 'procedure_for_the_diagnosis', 'patients_with_von_willebrand', 'early_in_the_course_of_the_disease', 'rates_of_morbidity_and_mortality', 'diagnosis_of_trophoblastic_disease', 'patients_with_neoplastic_disease', 'cells_infected_with_marek_disease', 'related_to_the_serum', 'accumulation_in_refsum_disease', 'independent_of_the_duration', 'greater_than_or_equal_to_months', 'common_cause_of_low', 'characteristics_of_marek_disease', 'infants_with_congenital_heart', 'infants_with_hyaline_membrane', 'survivors_of_myocardial_infarction', 'therapy_for_hodgkin_disease', 'induced_by_marek_disease', 'acth_secretion_in_cushing_disease', 'severity_of_the_lesions', 'trophoblastic_disease_are_discussed', 'anti_foot_and_mouth_disease', 'marek_disease_md_virus', 'discussed_with_particular_reference', 'animal_model_of_human', 'complication_of_neoplastic_disease', 'clinical_manifestations_of_parainfluenza', 'treatment_for_paget_disease', 'surface_of_peripheral_blood', 'fabry_disease_in_female', 'patients_with_diverticular_disease', 'derived_from_hodgkin_disease', 'effect_of_maternal_antibody', 'patient_with_addison_disease', 'chronic_active_liver_disease', 'disease_of_the_central_nervous', 'infected_with_newcastle_disease', 'patients_with_wilson_disease', 'natural_history_of_the_disease', 'coronary_arteriography_and_left', 'disease_of_the_respiratory_tract', 'influenza_viruses_were_isolated', 'efficiency_of_foot_and_mouth', 'increases_in_plasma_cyclic', 'variants_of_marek_disease', 'cells_in_the_marrow', 'diagnosis_of_legionnaires_disease', 'strains_of_clostridium_perfringens', 'marek_disease_herpesvirus_mdhv', 'prevention_of_alcoholic_liver', 'differences_in_the_incidence', 'susceptibility_to_the_foot_and_mouth', 'case_of_whipple_disease', 'sarcoma_in_paget_disease', 'stage_ii_and_iii', 'immunoglobulins_from_patients_with_graves', 'disease_was_significantly_greater', 'chronic_ischemic_heart_disease', 'disease_in_the_general_population', 'associated_with_hodgkin_disease', 'humoral_and_cell_mediated', 'activity_of_the_enzyme', 'patients_with_breast_carcinoma', 'patients_with_non_malignant', 'foot_and_mouth_disease_fmd', 'prevention_of_periodontal_disease', 'characteristic_of_whipple_disease', 'patients_with_ischaemic_heart', 'inoculated_with_bhk_cells', 'deaths_from_coronary_heart', 'cases_of_legionnaires_disease', 'histogenesis_of_the_disease', 'removal_of_the_tumor', 'patients_with_cushing_syndrome', 'animals_did_not_develop', 'foals_with_respiratory_tract', 'mucins_in_crohn_disease', 'advanced_stage_of_disease', 'lymphocytes_from_patients_with_hodgkin_disease', 'patients_with_chronic_obstructive_lung', 'effective_in_the_treatment', 'risk_factors_for_heart_disease', 'development_of_cell_mediated', 'cellular_immunity_to_protein', 'incidence_of_marek_disease', 'mechanism_of_foot_and_mouth', 'involvement_in_crohn_disease', 'identified_as_influenza_viruses', 'measured_in_patients_with_chronic', 'patients_with_stage_ii', 'left_ventricular_ejection_fraction', 'individuals_with_recurrent_hsv', 'investigation_of_legionnaires_disease', 'patient_with_chronic_obstructive', 'strains_of_newcastle_disease', 'purpose_of_this_paper', 'acute_stage_of_disease', 'children_with_celiac_disease', 'range_to_per_cent', 'antibody_dependent_cell_mediated', 'predispose_to_the_development', 'newcastle_disease_herpes_simplex', 'use_in_the_diagnosis', 'ankylosing_spondylitis_and_polyarthrosis', 'difference_was_not_significant', 'fact_that_of_the_patients', 'disease_of_left_main', 'forms_of_ischemic_heart', 'patients_with_severe_combined', 'normal_subjects_and_in_patients', 'patients_at_high_risk', 'spread_of_the_disease', 'patients_with_untreated_graves', 'inclusion_body_hepatitis_virus', 'course_of_hodgkin_disease', 'assessment_of_coronary_heart', 'inherited_as_an_autosomal_recessive', 'variations_in_the_clinical', 'patient_with_parkinson_disease', 'vector_of_epizootic_hemorrhagic', 'onset_of_the_disease', 'pathogenesis_of_coeliac_disease', 'reproduction_of_the_disease', 'cell_mediated_immune_response', 'severity_of_the_disease', 'identical_to_those_found', 'percent_of_the_patients', 'time_of_the_diagnosis', 'concepts_in_the_management', 'manifestations_of_the_disease', 'variant_of_the_disease', 'aetiology_of_this_disease', 'types_of_liver_disease', 'appear_to_be_associated', 'aspects_of_the_disorder', 'half_of_the_cases', 'staging_laparotomy_with_splenectomy', 'good_correlation_was_found', 'ulcerative_colitis_and_crohn_disease', 'known_to_be_associated', 'sarcoidosis_and_gaucher_disease', 'role_of_physical_exercise', 'crohn_disease_of_the_colon', 'consists_of_two_segments', 'aujeszky_disease_virus_adv', 'transmitted_by_the_inoculation', 'patients_with_acute_myelogenous', 'hodgkin_disease_in_children', 'variant_of_tay_sachs', 'patient_with_mcardle_disease', 'cases_of_crohn_disease', 'matter_of_the_brain', 'cent_of_the_patients', 'patients_with_graves_disease', 'helpful_in_the_diagnosis', 'family_history_of_breast_carcinoma', 'antibody_titers_and_the_clinical_course', 'head_and_neck_cancer', 'rarity_of_the_disorder', 'assessment_of_the_extent', 'management_of_parkinson_disease', 'case_of_hodgkin_disease', 'aleutian_disease_virus_adv', 'treated_for_hodgkin_disease', 'changes_in_the_functional', 'age_and_sex_matched', 'factor_in_the_pathogenesis', 'etiology_of_the_renal', 'play_an_important_role', 'disorder_of_the_renal', 'clinical_evidence_of_recurrence', 'mithramycin_in_paget_disease', 'correlation_could_be_established', 'cases_of_m_ni', 'cases_of_chronic_liver', 'midges_on_the_wind', 'alveolar_bone_from_patients', 'cirrhosis_of_the_liver', 'years_after_the_diagnosis', 'mtc_pyrophosphate_was_carried', 'number_of_reported_cases', 'treatment_of_trophoblastic_disease', 'findings_of_the_present_study', 'course_of_graves_disease', 'management_of_genetic_disorder', 'liver_disease_author_transl', 'adults_with_acute_leukemia', 'activity_of_anti_foot', 'manifestations_of_graves_disease', 'protection_against_marek_disease', 'specific_antibodies_were_detected', 'primary_prevention_of_coronary', 'outbursts_of_the_ulcer', 'form_of_the_disease', 'lesions_of_the_peripheral_nerves', 'dystrophy_and_charcot_marie', 'cytomegalovirus_cmv_was_isolated', 'present_in_the_sera', 'women_with_cushing_disease', 'evidence_of_immune_complex', 'results_indicate_an_association', 'mink_and_in_ferrets', 'virus_in_chick_embryo', 'patients_with_peptic_ulcer', 'mutants_of_foot_and_mouth', 'leptospiruria_and_clinical_signs', 'beta_and_pre_beta', 'evidence_of_metastatic_disease', 'infected_with_infectious_bursal', 'epstein_barr_virus_ebv', 'low_incidence_of_coronary_heart', 'compared_to_normal_controls', 'strain_of_marek_disease', 'consistent_with_the_hypothesis', 'cause_of_chronic_liver', 'replication_of_foot_and_mouth', 'marek_disease_tumor_associated', 'antibodies_against_herpes_simplex', 'prevalence_of_nine_different', 'pathogenesis_of_foot_and_mouth', 'effectiveness_of_the_new', 'receptors_in_parkinson_disease', 'huntington_disease_erythrocyte_membranes', 'patients_with_advanced_hodgkin_disease', 'patients_with_crohn_disease', 'plasma_lipids_and_lipoproteins', 'hdl_and_vascular_disease', 'method_in_the_diagnosis', 'form_of_chronic_granulomatous', 'course_of_the_disease', 'virulent_and_an_avirulent', 'hashimoto_thyroiditis_the_mean', 'newborns_with_hyaline_membrane', 'purpose_of_this_study', 'diagnosis_of_crohn_disease', 'women_with_polycystic_ovarian', 'patients_with_prostatic_carcinoma', 'findings_in_whipple_disease', 'variants_of_foot_and_mouth', 'necessary_for_the_development', 'virus_by_fluorescent_antibody', 'hirschsprung_disease_was_suspected', 'involved_in_the_pathogenesis', 'patients_with_various_forms', 'case_of_cytomegalic_inclusion', 'patients_with_respiratory_disease', 'irradiation_of_the_pituitary', 'individuals_with_ischemic_heart', 'normal_subjects_and_patients', 'cells_infected_with_newcastle_disease', 'marek_disease_virus_mdv', 'marek_disease_in_chickens', 'patients_with_chronic_renal', 'relationship_between_antibody_titers', 'patients_with_homozygous_sickle', 'gm_gangliosidosis_and_fabry_disease', 'shown_to_be_related', 'skin_fibroblasts_from_patients', 'asia_foot_and_mouth', 'disease_states_in_man', 'progression_of_the_disease', 'types_of_niemann_pick', 'order_to_disorder_transition', 'patients_with_parkinson_disease', 'center_for_disease_control', 'clinical_signs_of_the_disease', 'defect_in_tangier_disease', 'paget_disease_of_bone', 'huntington_disease_and_normal_controls', 'early_in_the_course', 'performed_in_year_old', 'treatment_for_graves_disease', 'ranged_from_to_months', 'isoenzymes_in_heart_disease', 'untreated_patients_with_hodgkin', 'degree_of_these_changes', 'association_between_the_two_diseases', 'cases_of_grave_disease', 'glucocorticoids_who_had_similar', 'pathogenesis_of_the_disease', 'properties_of_aleutian_disease', 'case_of_cushing_disease', 'evaluation_of_the_results', 'rheumatoid_arthritis_is_reflected', 'hla_in_beh_et', 'patients_with_benign_prostatic', 'effect_on_the_course', 'drug_in_the_treatment', 'effective_treatment_of_parkinson_disease', 'patients_with_pulmonary_metastases', 'greater_than_or_equal', 'deficiency_in_niemann_pick', 'identical_with_that_seen', 'hand_foot_and_mouth_disease', 'prevalence_of_the_disease', 'branch_of_the_left', 'control_group_of_subjects', 'antigen_in_the_diagnosis', 'disorders_of_cardiac_rhythm', 'st_depression_of_mm', 'knowledge_of_tay_sachs', 'induced_with_newcastle_disease', 'increased_susceptibility_to_infection', 'caused_by_the_infection', 'leukemia_and_hodgkin_disease', 'diagnostic_problems_in_celiac_disease', 'lymphocytes_from_patients_with_coeliac_disease', 'core_of_marek_disease', 'cases_of_cushing_syndrome', 'alpha_and_beta_globulin', 'hypocalcemia_after_thyroidectomy_for_graves', 'small_cell_carcinoma_of_the_lung', 'found_to_be_significantly_greater', 'patients_with_peripheral_vascular', 'skin_and_plasma_lipids', 'patients_suffering_from_itsenko_cushing', 'advanced_stage_of_the_disease', 'patients_with_multiple_sclerosis', 'found_to_be_elevated', 'test_for_foot_and_mouth', 'months_with_alpha_hydroxyvitamin', 'sera_of_patients_with_hodgkin', 'matched_for_age_sex', 'patients_with_chronic_lymphocytic_leukemia', 'tumors_from_specific_pathogen', 'hodgkin_disease_were_found', 'patient_with_darier_disease', 'complement_by_the_alternative', 'examined_by_electron_microscopy', 'treatment_of_cushing_disease', 'died_of_coronary_heart', 'patients_with_hashimoto_thyroiditis', 'clinical_symptoms_of_the_disease', 'epidemiology_of_the_disease', 'inoculated_with_the_infectious_bursal', 'blood_flow_in_coronary_artery', 'plasma_and_synovial_fluid', 'diagnosis_of_ischemic_heart', 'resistance_to_marek_disease', 'present_in_only_cases', 'effects_of_bypass_surgery', 'association_with_the_incidence_of_coronary', 'effect_of_alpha_hydroxyvitamin', 'presence_of_marek_disease', 'creation_of_ventricular_septal', 'patient_with_whipple_disease', 'treatment_of_parkinson_disease', 'aspects_of_whipple_disease', 'cell_surface_and_enzymatic', 'strains_of_marek_disease', 'optic_nerve_in_health', 'associated_with_the_development', 'women_from_venereal_disease', 'vaccine_against_marek_disease', 'patient_who_had_been_treated', 'parallel_the_clinical_course', 'characterized_by_an_increase', 'long_standing_graves_disease', 'hodgkin_disease_author_transl', 'affected_by_paget_disease', 'light_and_electron_microscopic_study', 'significant_correlation_was_found', 'conducted_by_the_center_for_disease', 'prevalence_of_ischemic_heart', 'clinical_and_laboratory_findings', 'diagnosis_of_chronic_granulomatous', 'patients_with_renal_bone', 'antibodies_in_the_serum', 'immunity_in_marek_disease', 'suggested_that_the_development', 'obtained_from_healthy_subjects', 'cases_in_the_clinic', 'results_are_discussed_in_relation', 'years_of_age_working', 'disease_of_the_neuromuscular', 'according_to_our_results', 'osteoclasts_in_paget_disease', 'pregnenolone_was_within_the_normal_range', 'susceptibility_to_foot_and_mouth', 'activity_of_the_foot_and_mouth', 'inoculated_with_the_bartha', 'administration_of_newcastle_disease', 'related_to_the_severity', 'results_might_be_improved', 'associated_with_coronary_heart', 'choline_in_alzheimer_disease', 'management_of_trophoblastic_disease', 'prevention_of_ischaemic_heart', 'outbreak_of_poliomyelitis_like', 'presence_of_aujeszky_disease', 'disease_in_the_australian', 'infection_of_the_pregnant', 'lesions_of_whipple_disease', 'normal_range_in_patients', 'carcinoma_of_the_colon', 'therapy_of_hodgkin_disease', 'regulation_of_enzymic_activity', 'sarcoidosis_and_whipple_disease', 'associated_with_cushing_disease', 'disease_and_hashimoto_thyroiditis', 'prevalence_of_cerebrovascular_disease', 'serum_samples_were_obtained', 'vaccinal_immunity_against_marek_disease', 'mouth_disease_fmd_virus', 'patients_with_systemic_lupus', 'response_to_newcastle_disease', 'patients_with_heart_disease', 'virus_in_the_body', 'newcastle_disease_virus_ndv', 'similar_to_that_described', 'case_report_author_transl', 'surgery_for_congenital_heart', 'model_of_the_human', 'staging_of_the_disease', 'band_of_the_peak', 'tract_in_the_rna', 'associated_with_respiratory_disease', 'peripheral_blood_and_bone_marrow', 'extramammary_paget_disease_of_the_vulva', 'cells_in_chagas_disease', 'chickens_to_newcastle_disease', 'light_and_electron_microscope', 'involvement_of_the_nervous_system', 'treatment_of_advanced_hodgkin', 'chickens_to_marek_disease', 'arising_in_hodgkin_disease', 'serum_samples_from_patients', 'chemotherapy_for_hodgkin_disease', 'disease_had_raised_serum', 'prove_to_be_useful', 'kekava_strain_mdv_kekava', 'succumbed_to_the_disease', 'antigen_of_marek_disease', 'synovial_fluid_of_patients', 'onset_of_the_order', 'knowledge_of_periodontal_disease', 'advance_of_the_disease', 'staging_laparotomy_for_hodgkin_disease', 'establishment_of_marek_disease', 'immunogenicity_of_the_dermal', 'identified_as_newcastle_disease', 'coeliac_disease_and_their_response', 'hepatitis_to_chronic_liver', 'sleep_in_chronic_obstructive', 'alpha_pag_serum_levels', 'patients_in_complete_remission', 'significance_in_the_epidemiology', 'low_levels_of_hdl_cholesterol', 'mechanism_in_cushing_disease', 'graves_disease_and_hashimoto_thyroiditis', 'epstein_barr_virus_infection', 'findings_support_the_concept', 'treatment_of_hodgkin_disease', 'diagnosis_of_whipple_disease', 'patients_with_duodenal_ulcer', 'patients_with_metastatic_disease', 'year_follow_up_period', 'lipoproteins_and_coronary_heart', 'discussed_in_the_light', 'reaction_of_the_synovial_membrane', 'test_for_the_exclusion', 'significantly_lower_in_patients', 'marek_disease_virus_dna', 'leading_to_the_diagnosis', 'study_of_muscle_biopsy', 'surgical_resection_of_residual', 'strain_of_aujeszky_disease', 'natural_course_of_the_disease', 'patients_with_small_cell', 'transposition_of_the_great_arteries', 'patients_with_alzheimer_disease', 'patients_with_ischemic_heart', 'treatment_of_graves_disease', 'vulva_to_invasive_carcinoma', 'development_of_chronic_liver', 'disease_in_middle_aged', 'majority_of_the_glomeruli', 'reviewed_with_particular_reference', 'manifestation_of_the_disease', 'patients_with_inflammatory_bowel', 'prevalence_of_stone_disease', 'association_between_the_occurrence', 'therapy_may_be_associated', 'cross_reactions_of_normal', 'prior_to_the_development', 'exacerbation_of_the_underlying', 'aetiology_of_the_disease', 'environmental_factors_in_the_etiology', 'cases_of_wilson_disease', 'patients_with_carcinoma_of_the_lung', 'protein_and_nucleic_acid', 'treatment_of_ulcerative_colitis', 'chicken_at_the_time', 'patient_with_gaucher_disease', 'lipoprotein_and_coronary_heart', 'patients_with_acute_lymphoblastic', 'impairment_of_cell_mediated', 'information_has_become_available', 'biopsy_specimens_from_patients', 'patients_with_stage_iii', 'lead_to_better_understanding', 'important_in_the_diagnosis', 'represents_the_first_report', 'children_with_congenital_heart_disease', 'patients_with_rheumatic_fever', 'severity_of_the_course', 'involvement_of_the_heart', 'graves_disease_author_transl', 'inactivated_foot_and_mouth_disease', 'character_of_the_disease', 'series_of_the_foot_and_mouth', 'patients_with_sickle_cell', 'patients_with_partial_remission', 'point_in_the_progression', 'necessary_for_the_correct', 'mortality_from_coronary_heart', 'production_of_thyroid_stimulating', 'function_in_cerebrovascular_disease', 'tangier_disease_alpha_lipoprotein', 'aleutian_disease_in_mink', 'paget_disease_of_the_breast', 'children_with_acute_lymphoblastic', 'st_depression_greater_than_or_equal', 'infantile_form_of_the_disease', 'high_proportion_of_patients', 'acute_leukaemia_in_remission', 'tissues_the_genetically_determined', 'transcription_of_the_marek_disease', 'family_history_of_coronary_heart', 'patients_with_type_iv', 'results_of_surgical_treatment', 'graves_disease_hashimoto_thyroiditis', 'possible_factor_in_the_pathogenesis', 'oat_cell_carcinoma_of_the_lung', 'patients_with_cystic_fibrosis', 'serum_of_patients_with_hodgkin', 'horses_and_from_horses', 'subjects_with_chronic_obstructive', 'patient_with_cushing_disease', 'useful_in_the_diagnosis', 'year_follow_up_study', 'patients_with_chronic_heart_disease', 'hydatid_disease_in_new_zealand', 'treatment_of_wilson_disease', 'patients_with_benign_breast', 'responsible_for_the_initiation', 'pathogenesis_of_this_disorder', 'patients_with_chronic_obstructive_pulmonary', 'patients_with_limited_disease', 'calcitonin_in_paget_disease', 'colectomy_for_crohn_disease', 'properties_of_aujeszky_disease', 'patient_with_peripheral_vascular', 'patients_with_niemann_pick', 'adult_patients_with_chronic', 'disease_or_corticosteroid_therapy', 'manifestations_of_crohn_disease', 'use_in_the_treatment', 'lymphoblastoid_cell_lines_derived', 'diagnosis_of_tay_sachs', 'serum_lipoproteins_were_determined', 'hla_antigens_were_determined', 'hamsters_was_also_demonstrated', 'patients_with_refsum_disease', 'type_foot_and_mouth', 'control_subjects_and_patients', 'total_thyroidectomy_for_graves', 'sendai_and_newcastle_disease', 'child_with_heart_disease', 'study_of_plasma_lipids', 'infected_with_marek_disease', 'newcastle_disease_virus_induced', 'diagnosis_of_von_gierke', 'paget_disease_of_the_nipple', 'experiments_and_in_rheumatic', 'incidence_of_legionnaires_disease', 'cholesterol_and_coronary_heart', 'antibody_to_virus_infection', 'correlated_with_the_degree', 'suggested_that_the_assay', 'lesions_of_the_central_nervous', 'cushing_disease_nelson_syndrome', 'detected_in_the_blood', 'patients_with_herpes_simplex', 'injury_in_adult_coeliac', 'relapses_of_the_disease', 'hyperthyroidism_of_graves_disease', 'sat_foot_and_mouth', 'authors_report_two_cases', 'suffering_from_ischemic_heart', 'constitutional_and_environmental_factors', 'gilles_de_la_tourette', 'wilson_disease_in_iran', 'patients_with_periodontal_disease', 'treatment_of_grave_disease', 'patients_with_myasthenia_gravis', 'crohn_disease_and_in_normal_controls', 'isolation_of_marek_disease', 'later_stages_of_the_disease', 'end_to_side_anastomosis', 'children_with_hirschsprung_disease', 'ng_ml_in_patients', 'transmission_of_mucosal_disease', 'short_and_long_term', 'susceptibility_of_the_legionnaires_disease', 'concept_of_the_pathogenesis', 'children_with_coeliac_disease', 'susceptibility_to_the_disease', 'clinical_signs_and_symptoms', 'mucosa_in_whipple_disease', 'polymerization_in_liver_disease', 'nature_of_the_disease', 'diseases_with_special_emphasis_on_gallstone', 'patients_with_end_stage', 'patients_with_ulcerative_colitis', 'free_of_coronary_heart', 'high_density_lipoprotein_deficiency', 'elevation_of_blood_lipids', 'typical_of_this_form', 'patients_with_transposition_of_the_great', 'huntington_disease_is_associated', 'kekava_strain_marek_disease', 'extent_to_which_tryptophan', 'different_stages_of_the_disease', 'treatment_of_coronary_artery', 'appear_to_be_useful', 'interaction_between_foot_and_mouth', 'months_after_the_onset_of_the_disease', 'depends_on_the_stage', 'outbreak_of_legionnaires_disease', 'rheumatoid_arthritis_rheumatic_heart', 'compared_with_the_controls', 'testing_of_foot_and_mouth', 'use_of_oral_contraceptives', 'high_levels_of_antibody', 'therapy_in_parkinson_disease', 'risk_factors_for_coronary_heart', 'cases_of_congenital_heart', 'surgical_treatment_and_irradiation', 'purified_foot_and_mouth', 'polypeptides_of_foot_and_mouth', 'ch_ch_ch_ch', 'management_of_hodgkin_disease', 'patients_with_renal_failure', 'genome_of_infectious_bursal', 'majority_of_the_patients', 'report_of_three_cases', 'described_in_the_literature', 'mink_with_progressive_aleutian', 'central_nervous_system_cns', 'results_of_these_studies', 'formation_of_immune_complexes', 'degree_of_personality_disorder', 'carried_out_in_cases', 'patient_with_alpha_antitrypsin', 'described_in_year_old', 'morbidity_and_mortality_from_disease', 'patients_with_coronary_heart', 'chickens_infected_with_marek_disease', 'resistance_of_the_organism', 'carnivora_of_the_family', 'patients_with_more_advanced', 'clinical_course_of_the_disease', 'concentration_of_high_density', 'capacity_of_the_liver', 'inoculation_of_day_old', 'beginning_of_the_disease', 'vaccinated_against_marek_disease', 'immune_response_to_aerobic', 'complete_transposition_of_the_great', 'cancer_of_the_lung', 'negative_at_the_direct', 'state_of_the_disease', 'forms_of_the_disease', 'partial_remission_became_disease', 'compared_with_normal_controls', 'achieved_in_of_patients', 'vitro_and_in_vivo', 'genesis_of_the_disease', 'acute_and_chronic_liver', 'children_with_heart_disease', 'strain_of_newcastle_disease', 'greater_than_ng_ml', 'interaction_of_marek_disease', 'etiology_of_the_disease', 'years_after_the_operation', 'hyperthyroidism_due_to_graves_disease', 'patients_with_autoimmune_thyroiditis', 'aleutian_disease_of_mink', 'appears_to_be_associated', 'evidence_of_bone_marrow', 'infected_with_foot_and_mouth', 'structures_in_bhk_cells', 'followed_by_radiation_therapy', 'divided_into_two_groups', 'celiac_disease_in_children', 'paget_disease_of_the_vulva', 'patient_with_crohn_disease', 'normal_and_graves_disease', 'entry_of_into_muscle', 'antigen_in_graves_disease', 'lack_of_physical_activity', 'bursa_of_fabricius_thymus', 'strain_of_foot_and_mouth', 'infection_with_the_virus', 'proved_to_be_valuable', 'observed_in_graves_disease', 'pathophysiology_of_cushing_disease', 'experimental_model_of_amniotic', 'cases_of_acute_myeloid', 'approach_to_the_management', 'respiratory_disease_in_scottish', 'cushing_disease_and_nelson_syndrome', 'course_of_antithyroid_drugs', 'light_and_electron_microscopic_studies', 'factors_such_as_obesity', 'smoking_and_coronary_heart', 'antibody_to_cytomegalovirus_cmv', 'advanced_stages_of_the_disease', 'found_to_be_present', 'shown_to_be_effective', 'sign_of_the_disease', 'compared_to_the_control_group', 'patients_with_rheumatic_heart', 'patient_with_chronic_granulomatous', 'sudden_death_from_heart_disease', 'report_of_case_and_review_of_the_literature', 'found_in_parkinson_disease', 'patient_died_months_after_the_onset', 'members_had_two_haplotypes', 'play_role_in_the_pathogenesis', 'patients_with_different_stages', 'classification_of_von_willebrand', 'severity_of_the_lung', 'form_of_pelizaeus_merzbacher', 'portion_of_the_center_for_disease', 'remained_free_of_disease', 'high_risk_of_coronary_heart', 'divided_into_three_groups', 'experimental_infection_with_kyasanur_forest', 'basal_ganglia_and_scattered', 'patients_with_chronic_inflammatory_bowel', 'seven_patients_with_advanced_hodgkin', 'induction_of_marek_disease', 'nelson_syndrome_and_one_patient', 'characteristic_of_this_disorder', 'hydatid_disease_of_the_liver', 'cases_of_paget_disease', 'hodgkin_disease_in_blacks', 'muscle_fibers_in_duchenne', 'surface_antigen_in_chickens_infected', 'development_of_coronary_heart', 'antigen_and_beta_microglobulin', 'patients_had_connective_tissue', 'significantly_higher_in_patients', 'nursing_of_patient_with_difficulty', 'play_an_important_role_in_the_pathogenesis', 'defect_in_parkinson_disease', 'outbreak_of_winter_vomiting', 'patients_with_alcoholic_liver', 'patients_with_chronic_liver_disease', 'chicks_with_infectious_bursal', 'composition_in_broad_beta', 'phytanic_acid_storage_disease', 'herpesvirus_from_an_american_kestrel', 'pregnancy_and_trophoblastic_disease', 'thirty_eight_of_these_patients', 'diagnosis_of_niemann_pick', 'disease_of_the_vulva', 'history_of_breast_disease', 'records_of_hydatid_disease', 'cardiovascular_disease_risk_factor', 'disease_and_healthy_controls', 'lymphocytes_in_hodgkin_disease', 'demonstration_of_the_agent', 'prevalence_of_hbv_infection', 'interference_by_newcastle_disease', 'activity_of_foot_and_mouth', 'patients_with_huntington_disease', 'report_of_case_simulating', 'heredopathia_atactica_refsum_disease', 'complete_remission_for_median', 'light_and_electron_microscopy', 'high_density_lipoprotein_hdl', 'concentration_and_or_decreased', 'prevention_of_heart_disease', 'adenocarcinoma_of_the_prostate', 'aggravation_of_the_disease', 'extent_of_coronary_artery', 'cell_mediated_immune_responses', 'clinical_signs_of_disease', 'experimental_infection_with_infectious_bursal', 'virulent_one_of_titer', 'transmission_of_creutzfeldt_jakob', 'department_of_health_education', 'risk_of_cardiovascular_disease', 'duration_of_the_disease', 'content_in_the_endometrium', 'pathology_of_legionnaires_disease', 'liver_disease_in_papua', 'disease_with_the_exception', 'applied_to_the_study', 'strains_of_foot_and_mouth_disease', 'form_of_niemann_pick', 'characterized_by_the_presence', 'changes_of_graves_disease', 'changes_in_the_physical', 'clinical_manifestation_of_the_disease', 'untreated_patients_with_graves', 'electrophoresis_in_polyacrylamide_gel', 'patients_with_graves_ophthalmopathy', 'epstein_barr_virus_dna', 'incidence_of_ischaemic_heart', 'initial_stage_of_the_disease', 'conformation_and_or_organization', 'apolipoproteins_in_tangier_disease', 'review_of_the_literature', 'role_in_the_pathogenesis', 'incidence_of_coronary_heart_disease', 'chickens_inoculated_with_marek_disease', 'therapy_should_be_given', 'understanding_of_the_pathogenesis', 'induced_by_newcastle_disease', 'vaccinated_against_newcastle_disease', 'depends_on_the_age', 'immunity_to_newcastle_disease', 'type_ii_and_type_iii', 'phases_of_the_disease', 'comparison_of_foot_and_mouth', 'cases_of_extramammary_paget', 'diagnosis_of_coronary_heart', 'chickens_with_marek_disease', 'test_in_the_diagnosis', 'comparison_of_the_lipid', 'prevention_of_coronary_heart_disease', 'aspects_of_paget_disease', 'midline_and_often_also_involvement', 'age_and_sex_matched_controls', 'severity_of_periodontal_disease', 'recurrence_of_any_tmj', 'crohn_disease_and_ulcerative_colitis', 'percentage_of_rosette_forming', 'osteoclasts_in_paget_bone', 'cystic_fibrosis_and_celiac_disease', 'surgical_treatment_in_patients', 'reactivity_of_the_individual', 'aujeszky_disease_virus_strains', 'resection_of_the_prostate', 'symposium_on_pathophysiology_of_biliary_tract', 'released_from_the_normal', 'inoculation_of_three_to_four_week_old', 'stages_of_cushing_disease', 'patients_in_hong_kong', 'patients_with_vascular_disease', 'prevention_of_atherosclerotic_heart', 'similar_to_those_observed', 'prevalence_of_vascular_disease', 'analysis_of_the_results', 'diverticular_disease_of_the_colon', 'change_in_the_course', 'm_ni_re_disease', 'related_to_marek_disease', 'epidemics_of_respiratory_disease', 'method_for_wilson_disease', 'treatment_of_paget_disease', 'cells_in_the_bone_marrow', 'correlation_between_the_presence', 'patients_with_less_advanced', 'treated_with_radiation_therapy', 'results_of_the_present_study', 'plasma_acth_and_cortisol', 'risk_factors_in_coronary_heart', 'lesions_of_aleutian_disease', 'chemotherapy_of_trophoblastic_disease', 'importance_in_the_early_detection', 'patients_with_nelson_syndrome', 'hodgkin_disease_were_treated', 'results_of_this_study', 'presence_of_coronary_heart', 'pediatric_patients_with_hodgkin', 'classification_of_hodgkin_disease', 'evolution_of_the_disease', 'rats_and_guinea_pigs', 'evidence_of_liver_disease', 'outcome_of_the_disease', 'size_of_the_primary', 'rabies_foot_and_mouth', 'carried_out_to_establish', 'concentrations_were_significantly_lower'}"
     ]
    },
    {
     "name": "stdout",
     "output_type": "stream",
     "text": [
      "\n"
     ]
    }
   ],
   "source": [
    "phrases = Phrases(\n",
    "      bigram[matched_sents]\n",
    "    , common_terms=common_terms\n",
    "    , min_count=1\n",
    "    , threshold=1\n",
    ")\n",
    "\n",
    "trigram = Phraser(phrases)\n",
    "\n",
    "print_phrases(trigram, bigram[matched_sents], num_underscores=3)"
   ]
  },
  {
   "cell_type": "code",
   "execution_count": 69,
   "metadata": {},
   "outputs": [
    {
     "name": "stdout",
     "output_type": "stream",
     "text": [
      "DOC NUMBER: 0\n",
      "\n",
      "ORIGINAL SENTENT: immune complexes in rheumatic disease\n",
      "\n",
      "BIGRAM: immune_complexes in rheumatic disease\n",
      "\n",
      "TRIGRAM: immune_complexes in rheumatic_disease\n",
      "\n"
     ]
    }
   ],
   "source": [
    "for doc_num in [0]:\n",
    "    print('DOC NUMBER: {}\\n'.format(doc_num))\n",
    "    print('ORIGINAL SENTENT: {}\\n'.format(' '.join(matched_sents[doc_num])))\n",
    "    print('BIGRAM: {}\\n'.format(' '.join(bigram[matched_sents[doc_num]])))\n",
    "    print('TRIGRAM: {}'.format(' '.join(trigram[bigram[matched_sents[doc_num]]])))\n",
    "    print()"
   ]
  },
  {
   "cell_type": "markdown",
   "metadata": {},
   "source": [
    "#### Export Cleaned Text"
   ]
  },
  {
   "cell_type": "code",
   "execution_count": 70,
   "metadata": {},
   "outputs": [],
   "source": [
    "# write the cleaned text to a new file for later use\n",
    "\n",
    "#with open(CLEANED_TEXT_PATH, 'w') as f:\n",
    "#    for line in bigram[matched_sents]:\n",
    "#        line = ' '.join(line) + '\\n'\n",
    "#        line = line.encode('ascii', errors='ignore').decode('ascii')\n",
    "#        f.write(line)"
   ]
  }
 ],
 "metadata": {
  "kernelspec": {
   "display_name": "Python [default]",
   "language": "python",
   "name": "python3"
  },
  "language_info": {
   "codemirror_mode": {
    "name": "ipython",
    "version": 3
   },
   "file_extension": ".py",
   "mimetype": "text/x-python",
   "name": "python",
   "nbconvert_exporter": "python",
   "pygments_lexer": "ipython3",
   "version": "3.5.4"
  }
 },
 "nbformat": 4,
 "nbformat_minor": 2
}
